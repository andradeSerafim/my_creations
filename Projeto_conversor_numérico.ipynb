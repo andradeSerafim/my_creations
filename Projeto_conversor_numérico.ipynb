{
  "nbformat": 4,
  "nbformat_minor": 0,
  "metadata": {
    "colab": {
      "provenance": []
    },
    "kernelspec": {
      "name": "python3",
      "display_name": "Python 3"
    },
    "language_info": {
      "name": "python"
    }
  },
  "cells": [
    {
      "cell_type": "markdown",
      "source": [
        "\n",
        "Cálculo numérico 1 - MAT174 - Universidade Federal da Bahia\n",
        "\n",
        "Componentes: Ana Carolina Reboucas Oliveira, Akhenaton Andrade Serafim Gomes , Bruna Victoria Assis Soares, Diego Santos Nobre Barreto, Laryane Nascimento dos Santos, Paulo Vitor Lessa"
      ],
      "metadata": {
        "id": "oePVk00lzZVW"
      }
    },
    {
      "cell_type": "code",
      "source": [
        "def sinal_negativo_decimal(numero) -> bool:\n",
        "  numero = float(numero)\n",
        "  eh_negativo = False\n",
        "  if numero < 0:\n",
        "    eh_negativo = True\n",
        "  \n",
        "  return eh_negativo\n",
        "\n",
        "\n",
        "sinal_negativo_decimal('-15')"
      ],
      "metadata": {
        "id": "CEcY3D5fGIxI",
        "colab": {
          "base_uri": "https://localhost:8080/"
        },
        "outputId": "94cb3f9e-41e3-411b-f799-9155208857e7"
      },
      "execution_count": null,
      "outputs": [
        {
          "output_type": "execute_result",
          "data": {
            "text/plain": [
              "True"
            ]
          },
          "metadata": {},
          "execution_count": 1
        }
      ]
    },
    {
      "cell_type": "code",
      "source": [
        "def sinal_negativo_binario(numero) -> bool:\n",
        "  #numero = int(numero)\n",
        "  eh_negativo = False\n",
        "  #print(numero[0])\n",
        "  if numero[0] == '1':\n",
        "    eh_negativo = True\n",
        "  \n",
        "  return eh_negativo\n",
        "\n",
        "\n",
        "sinal_negativo_binario('00000001')"
      ],
      "metadata": {
        "id": "7tRYgm4j1xYz",
        "colab": {
          "base_uri": "https://localhost:8080/"
        },
        "outputId": "f898633e-b994-4a41-e260-37d133b4b026"
      },
      "execution_count": null,
      "outputs": [
        {
          "output_type": "execute_result",
          "data": {
            "text/plain": [
              "False"
            ]
          },
          "metadata": {},
          "execution_count": 2
        }
      ]
    },
    {
      "cell_type": "code",
      "source": [
        "def convertendo_inteiro_para_binario(numero):\n",
        "  digitos = ''\n",
        "  while numero: # Enquanto não for igual a 0.\n",
        "    resto = numero % 2\n",
        "    digitos = digitos + str(resto)\n",
        "    #print(digitos)\n",
        "    numero = numero // 2\n",
        "\n",
        "  resultado = digitos[::-1]\n",
        "  if not resultado:\n",
        "    return 0\n",
        "  return resultado\n",
        "\n",
        "\n",
        "#[int(n) for n in str(convertendo_inteiro_para_binario(1050))]\n",
        "# convertendo_inteiro_para_binario(int('18'))\n",
        "# convertendo_inteiro_para_binario(abs(int(0.1)))\n",
        "[int(n) for n in str(convertendo_inteiro_para_binario(int(17.09375)))]"
      ],
      "metadata": {
        "id": "bbRocKE3G4aL",
        "colab": {
          "base_uri": "https://localhost:8080/"
        },
        "outputId": "53177fd1-5180-4c0c-ed07-1824a568d93b"
      },
      "execution_count": null,
      "outputs": [
        {
          "output_type": "execute_result",
          "data": {
            "text/plain": [
              "[1, 0, 0, 0, 1]"
            ]
          },
          "metadata": {},
          "execution_count": 3
        }
      ]
    },
    {
      "cell_type": "code",
      "source": [
        "def conversor_numerico_inteiro(numero_original, base_numerica): # 00001000\n",
        "  if base_numerica == 'B': # Converter para binário\n",
        "    if abs(int(numero_original)) >= 2**7:\n",
        "      print(\"Overflow: o número não pode ser representado em 8 bits\")\n",
        "      return ''\n",
        "    numero = abs(int(numero_original))\n",
        "    #print(numero_original)\n",
        "    eh_negativo: bool = sinal_negativo_decimal(int(numero_original))\n",
        "    \n",
        "    resultado = convertendo_inteiro_para_binario(abs(int(numero)))\n",
        "    #print(resultado)\n",
        "\n",
        "    while len(resultado) < 7:\n",
        "      resultado = '0' + resultado\n",
        "\n",
        "    if eh_negativo:\n",
        "      return '1' + resultado\n",
        "    else:\n",
        "      return '0' + resultado\n",
        "  elif base_numerica == 'D' or base_numerica == 'D_2': # Converter de binário para decimal\n",
        "\n",
        "    if base_numerica == 'D':\n",
        "      numero = abs(int(numero_original[1:]))\n",
        "      #eh_negativo: bool = sinal_negativo_binario(numero_original)\n",
        "    elif base_numerica == 'D_2':\n",
        "      numero = abs(int(numero_original[6:]))\n",
        "      #eh_negativo: bool = False\n",
        "    eh_negativo: bool = sinal_negativo_binario(numero_original)\n",
        "\n",
        "    extensao = len(str(numero_original))\n",
        "    '''print('numero_original:', numero_original)\n",
        "    print('extensao:', extensao)\n",
        "    print('base_numerica:', base_numerica)'''\n",
        "    if extensao == 8:\n",
        "      nao_booleano = ['2','3','4','5','6','7','8','9']\n",
        "      for valor_nao_booleano in nao_booleano:\n",
        "        if valor_nao_booleano in str(numero):\n",
        "          raise ValueError('Favor, digitar somente 0 e 1 neste caso.')\n",
        "\n",
        "      numero_input: int = numero\n",
        "      expoente: int = 0\n",
        "      resultado: int = 0\n",
        "      while numero_input >= (10**expoente):\n",
        "        digito_posicional = numero % 10\n",
        "        numero = numero // 10\n",
        "        resultado += digito_posicional*(2**expoente)\n",
        "        #print(resultado)\n",
        "        expoente += 1\n",
        "\n",
        "      if eh_negativo:\n",
        "        return -abs(resultado)\n",
        "      else:\n",
        "        return resultado\n",
        "    else:\n",
        "      print(\n",
        "      'Digite números inteiros em 8 bits, o primeiro bit é somente para sinal.'\n",
        "          )\n",
        "\n",
        "\n",
        "\n",
        "conversor_numerico_inteiro('-70', 'B')\n",
        "# conversor_numerico_inteiro('11111111', 'D_2')"
      ],
      "metadata": {
        "id": "mJvZ2Mw-944T",
        "colab": {
          "base_uri": "https://localhost:8080/",
          "height": 36
        },
        "outputId": "d070f350-4c35-45f2-e6a6-2103102a85ee"
      },
      "execution_count": null,
      "outputs": [
        {
          "output_type": "execute_result",
          "data": {
            "text/plain": [
              "'11000110'"
            ],
            "application/vnd.google.colaboratory.intrinsic+json": {
              "type": "string"
            }
          },
          "metadata": {},
          "execution_count": 4
        }
      ]
    },
    {
      "cell_type": "code",
      "source": [
        "def parte_decimal_em_binario(depois_do_ponto):\n",
        "  resultado = []\n",
        "  while len(resultado) <= 16:\n",
        "    depois_do_ponto *= 2\n",
        "    digito = depois_do_ponto // 1\n",
        "    resultado.append(int(digito))\n",
        "    if digito != 0:\n",
        "      depois_do_ponto -= 1\n",
        "  return resultado\n",
        "\n",
        "\n",
        "# parte_decimal_em_binario(0.00001525878)\n",
        "parte_decimal_em_binario(abs(-68.375) % 1)"
      ],
      "metadata": {
        "id": "Rp6mj9TcF6O2",
        "colab": {
          "base_uri": "https://localhost:8080/"
        },
        "outputId": "f01b1f73-d9e5-42eb-db97-a3343d736e71"
      },
      "execution_count": null,
      "outputs": [
        {
          "output_type": "execute_result",
          "data": {
            "text/plain": [
              "[0, 1, 1, 0, 0, 0, 0, 0, 0, 0, 0, 0, 0, 0, 0, 0, 0]"
            ]
          },
          "metadata": {},
          "execution_count": 5
        }
      ]
    },
    {
      "cell_type": "code",
      "source": [
        "def conversor_numerico_real(numero, base_numerica):\n",
        "  if base_numerica == 'B':  # Decimal para binário.\n",
        "    if sinal_negativo_decimal(numero):\n",
        "      bit = 1\n",
        "    else:\n",
        "      bit = 0\n",
        "    # print('bit', bit)\n",
        "\n",
        "    numero = abs(float(numero))\n",
        "    if numero < 2**(-16):\n",
        "      return \"Underflow: o número não pode ser representado em ponto flutuante de 16 bits\"\n",
        "    \n",
        "    if numero > 2**16:\n",
        "      return \"Overflow: o número não pode ser representado em ponto flutuante de 16 bits\"\n",
        "\n",
        "    parte_decimal_binario = parte_decimal_em_binario(numero % 1)\n",
        "    # print(\"parte_decimal_binario\", parte_decimal_binario)  # Debug\n",
        "    parte_inteira_binario = [int(n) for n in \n",
        "                             str(convertendo_inteiro_para_binario(int(numero)))\n",
        "                             ]\n",
        "    # print(\"parte_inteira_binario\", parte_inteira_binario)  # Debug\n",
        "    mantissa = parte_inteira_binario + parte_decimal_binario\n",
        "    # mantissa = mantissa[:10]  # ver depois\n",
        "    # print('mantissa   ', mantissa)  # Debug\n",
        "\n",
        "\n",
        "    # Ajustando mantissa para que o primeiro dígito seja 1.\n",
        "    aumentando_expoente = 0\n",
        "    while mantissa[0] == 0:\n",
        "      mantissa.pop(0)\n",
        "      mantissa = mantissa + [0]\n",
        "      # print('mantissapop', mantissa)  # Debug\n",
        "    mantissa = mantissa[:10]\n",
        "    #print('expoente_binario', expoente_binario)\n",
        "\n",
        "    \n",
        "    # Expoente\n",
        "    if parte_inteira_binario == [0]:\n",
        "      '''Se a parte inteira for nula, procuro o dígito significativo na \n",
        "      parte decimal da esquerda para direita.'''\n",
        "      index = 0\n",
        "      expoente = -1\n",
        "      while parte_decimal_binario[index] == 0:\n",
        "        expoente -= 1\n",
        "        index += 1\n",
        "      print('expoente', expoente)\n",
        "    else:\n",
        "      '''O primeiro dígito é sempre 1, logo, procuro a extensão. \n",
        "      Mas é preciso deixar o expoente com comprimento 5.'''\n",
        "      # print('parte_inteira_binario', parte_inteira_binario)  # Debug\n",
        "      expoente = len(parte_inteira_binario) -1\n",
        "      # print('expoente', expoente)  # Debug\n",
        "    expoente_binario = [int(n) for n in str(convertendo_inteiro_para_binario(\n",
        "                          expoente + 16\n",
        "                        ))]\n",
        "    # print('expoente_binario', expoente_binario)\n",
        "    if expoente < 0:\n",
        "      #print('expoente', expoente)\n",
        "      while len(expoente_binario) < 5:\n",
        "        expoente_binario = [0] + expoente_binario\n",
        "\n",
        "    # Enfim, devolvendo o número.\n",
        "    b = str(bit)\n",
        "    ex = ''\n",
        "    for i in expoente_binario:\n",
        "      ex += str(i)\n",
        "    if ex == '100000':\n",
        "      ex = '11111'\n",
        "    m = ''\n",
        "    for i in mantissa:\n",
        "      m += str(i)\n",
        "    print(b, ex, m)\n",
        "  \n",
        "  elif base_numerica == 'D':  # Binário para decimal.\n",
        "    if numero[6] != '1':\n",
        "      #print(numero[6])\n",
        "      return print(f\"A mantissa deve sempre começar com 1 em ponto flutuante. Está escrito {numero[6]}.\")\n",
        "\n",
        "    eh_negativo: bool = sinal_negativo_binario(numero)\n",
        "    expoente = conversor_numerico_inteiro('000' + numero[1:6], 'D') - 15  # 00001000\n",
        "    #print('expoente:',expoente)\n",
        "    parte_fracionaria_binaria = [int(n) for n in numero[6:]]  # Por enquanto toda mantissa.\n",
        "    #print('numero[6:]', numero[6:])\n",
        "    parte_inteira_binaria = []\n",
        "    parte_fracionaria_binaria \n",
        "    while expoente != 0:\n",
        "      if expoente > 0:\n",
        "        parte_inteira_binaria.append(parte_fracionaria_binaria[0])\n",
        "        #print('parte_inteira_binaria:', parte_inteira_binaria)\n",
        "        parte_fracionaria_binaria.pop(0)\n",
        "        #print('parte_fracionaria_binaria', parte_fracionaria_binaria)\n",
        "        if not parte_fracionaria_binaria:\n",
        "          parte_fracionaria_binaria.append(0)\n",
        "        expoente -= 1\n",
        "      elif expoente < 0:\n",
        "        parte_fracionaria_binaria = [0] + parte_fracionaria_binaria\n",
        "        #print('parte_fracionaria_binaria', parte_fracionaria_binaria)\n",
        "        expoente += 1\n",
        "    \n",
        "    expoente_base_2_inteiro = 0\n",
        "    parte_inteira_binaria.reverse()\n",
        "    parte_inteira_decimal = 0\n",
        "    for n in parte_inteira_binaria:\n",
        "      parte_inteira_decimal += n * 2 ** expoente_base_2_inteiro\n",
        "      expoente_base_2_inteiro += 1\n",
        "    \n",
        "    expoente_base_2_fracionario = -1\n",
        "    parte_fracionaria_decimal = 0\n",
        "    for n in parte_fracionaria_binaria:\n",
        "      parte_fracionaria_decimal += n * 2 ** expoente_base_2_fracionario\n",
        "      expoente_base_2_fracionario -= 1\n",
        "    \n",
        "    if eh_negativo:\n",
        "      return -abs(parte_inteira_decimal + parte_fracionaria_decimal)\n",
        "    else:\n",
        "      return parte_inteira_decimal + parte_fracionaria_decimal\n",
        "\n",
        "\n",
        "\n",
        "# conversor_numerico_real('1101001000100011', 'D')\n",
        "# conversor_numerico_real('-17.09375', 'B')\n",
        "conversor_numerico_real('0.1', 'B')\n",
        "# conversor_numerico_real('1.125', 'B')\n",
        "# conversor_numerico_real(\"-32832.0\", 'B')"
      ],
      "metadata": {
        "id": "x96ZZFNt_Cps",
        "colab": {
          "base_uri": "https://localhost:8080/"
        },
        "outputId": "f19b1e4d-c8fd-4e69-fd8f-8d6592b84ab7"
      },
      "execution_count": 78,
      "outputs": [
        {
          "output_type": "stream",
          "name": "stdout",
          "text": [
            "expoente -4\n",
            "0 01100 1100110011\n"
          ]
        }
      ]
    },
    {
      "cell_type": "code",
      "execution_count": 81,
      "metadata": {
        "id": "h0spctSQH760",
        "colab": {
          "base_uri": "https://localhost:8080/"
        },
        "outputId": "598cd407-d7af-437a-e6f5-89a7d63484a4"
      },
      "outputs": [
        {
          "name": "stdout",
          "output_type": "stream",
          "text": [
            "Digite qualquer número: 1 10000 1000000000\n",
            "Digite B para converter de decimal para binário ou D para converter de binário para decimal: d\n"
          ]
        },
        {
          "output_type": "execute_result",
          "data": {
            "text/plain": [
              "-1.0"
            ]
          },
          "metadata": {},
          "execution_count": 81
        }
      ],
      "source": [
        "def conversor_numerico(numero_em_leitura, base_numerica):  # CÓPIA\n",
        "  numero_em_leitura = numero_em_leitura.replace(' ','')\n",
        "  eh_inteiro = float(numero_em_leitura)\n",
        "  extensao = len(numero_em_leitura)\n",
        "  #print(eh_inteiro)\n",
        "  #print('extensao:', extensao)\n",
        "  if eh_inteiro % 1 == 0 and extensao != 16:  # NÚMERO INTEIRO\n",
        "    if numero_em_leitura == '00000000':\n",
        "      return 0\n",
        "    if numero_em_leitura == '10000000':\n",
        "      return 0\n",
        "    if not eh_inteiro and base_numerica == \"B\":  # Caso for 0.\n",
        "      return '00000000'\n",
        "    \n",
        "    # print('inteiro')\n",
        "    numero_binario: int = conversor_numerico_inteiro(numero_em_leitura, base_numerica)\n",
        "    return numero_binario\n",
        "  else:  # NÚMERO REAL\n",
        "    if numero_em_leitura == '0000000000000000': \n",
        "      return 0\n",
        "    else:\n",
        "      numero_binario_real = conversor_numerico_real(numero_em_leitura, base_numerica)\n",
        "      #print('real')\n",
        "      return numero_binario_real\n",
        "\n",
        "\n",
        "n = input('Digite qualquer número: ')\n",
        "escolha: str = input(\n",
        " 'Digite B para converter de decimal para binário ou D\\\n",
        " para converter de binário para decimal: ').upper()\n",
        "\n",
        "conversor_numerico(n, escolha)\n"
      ]
    },
    {
      "cell_type": "code",
      "execution_count": null,
      "metadata": {
        "id": "ni-4j6_YAFCc",
        "colab": {
          "base_uri": "https://localhost:8080/"
        },
        "outputId": "68b4bd41-c847-4cf5-d5b1-549fec957279"
      },
      "outputs": [
        {
          "output_type": "stream",
          "name": "stdout",
          "text": [
            "parte_decimal_binario [0, 1, 1, 0, 0, 0, 0, 0, 0, 0, 0, 0, 0, 0, 0, 0, 0]\n",
            "parte_inteira_binario [1, 0, 0, 0, 1, 0, 0]\n",
            "mantissa    [1, 0, 0, 0, 1, 0, 0, 0, 1, 1]\n",
            "mantissapop [1, 0, 0, 0, 1, 0, 0, 0, 1, 1]\n",
            "parte_inteira_binario [1, 0, 0, 0, 1, 0, 0]\n",
            "expoente 7\n",
            "1 10111 1000100011\n",
            "real\n"
          ]
        }
      ],
      "source": [
        "def conversor_numerico(numero_em_leitura, base_numerica):\n",
        "  numero_em_leitura = numero_em_leitura.replace(' ','')\n",
        "  eh_inteiro = float(numero_em_leitura)\n",
        "  extensao = len(numero_em_leitura)\n",
        "  # print(eh_inteiro)\n",
        "  # print(extensao)\n",
        "  if eh_inteiro % 1 == 0 and extensao != 16:  # NÚMERO INTEIRO\n",
        "    if numero_em_leitura == '0000000000000000': \n",
        "      return 0\n",
        "    if numero_em_leitura == '00000000':\n",
        "      return 0\n",
        "    if not eh_inteiro and base_numerica == \"B\":  # Caso for 0.\n",
        "      return '0 0000000'\n",
        "    \n",
        "    print('inteiro')\n",
        "    numero_binario: int = conversor_numerico_inteiro(numero_em_leitura, base_numerica)\n",
        "    return numero_binario\n",
        "  else:  # NÚMERO REAL\n",
        "    numero_binario_real = conversor_numerico_real(numero_em_leitura, base_numerica)\n",
        "    print('real')\n",
        "    return numero_binario_real\n",
        "\n",
        "\n",
        "'''n = input('Digite qualquer número: ')\n",
        "escolha: str = input(\n",
        " 'Digite B para converter de decimal para binário ou D\\\n",
        " para converter de binário para decimal: ').upper()\n",
        "'''\n",
        "# conversor_numerico('0 11111 1111111111', 'D')\n",
        "conversor_numerico('-68.375', 'B')\n"
      ]
    }
  ]
}