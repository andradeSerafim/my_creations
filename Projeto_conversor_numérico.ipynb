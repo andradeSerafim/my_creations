{
  "nbformat": 4,
  "nbformat_minor": 0,
  "metadata": {
    "colab": {
      "provenance": [],
      "collapsed_sections": [
        "kZxRJUd18Ab0"
      ],
      "include_colab_link": true
    },
    "kernelspec": {
      "name": "python3",
      "display_name": "Python 3"
    },
    "language_info": {
      "name": "python"
    }
  },
  "cells": [
    {
      "cell_type": "markdown",
      "metadata": {
        "id": "view-in-github",
        "colab_type": "text"
      },
      "source": [
        "<a href=\"https://colab.research.google.com/github/andradeSerafim/my_creations/blob/main/Projeto_conversor_num%C3%A9rico.ipynb\" target=\"_parent\"><img src=\"https://colab.research.google.com/assets/colab-badge.svg\" alt=\"Open In Colab\"/></a>"
      ]
    },
    {
      "cell_type": "markdown",
      "source": [
        "# Trabalho inicial (16 bits):"
      ],
      "metadata": {
        "id": "kZxRJUd18Ab0"
      }
    },
    {
      "cell_type": "markdown",
      "source": [
        "\n",
        "Cálculo numérico 1 - MAT174 - Universidade Federal da Bahia\n",
        "\n",
        "Componentes: Ana Carolina Reboucas Oliveira, Akhenaton Andrade Serafim Gomes , Bruna Victoria Assis Soares, Diego Santos Nobre Barreto, Laryane Nascimento dos Santos, Paulo Vitor Lessa"
      ],
      "metadata": {
        "id": "oePVk00lzZVW"
      }
    },
    {
      "cell_type": "code",
      "source": [
        "def sinal_negativo_decimal(numero) -> bool:\n",
        "  numero = float(numero)\n",
        "  eh_negativo = False\n",
        "  if numero < 0:\n",
        "    eh_negativo = True\n",
        "  \n",
        "  return eh_negativo\n",
        "\n",
        "\n",
        "sinal_negativo_decimal('-15')"
      ],
      "metadata": {
        "id": "CEcY3D5fGIxI",
        "colab": {
          "base_uri": "https://localhost:8080/"
        },
        "outputId": "7cf67989-ea07-4e09-961f-5882d1655d53"
      },
      "execution_count": null,
      "outputs": [
        {
          "output_type": "execute_result",
          "data": {
            "text/plain": [
              "True"
            ]
          },
          "metadata": {},
          "execution_count": 2
        }
      ]
    },
    {
      "cell_type": "code",
      "source": [
        "def sinal_negativo_binario(numero) -> bool:\n",
        "  #numero = int(numero)\n",
        "  eh_negativo = False\n",
        "  #print(numero[0])\n",
        "  if numero[0] == '1':\n",
        "    eh_negativo = True\n",
        "  \n",
        "  return eh_negativo\n",
        "\n",
        "\n",
        "sinal_negativo_binario('00000001')"
      ],
      "metadata": {
        "id": "7tRYgm4j1xYz",
        "colab": {
          "base_uri": "https://localhost:8080/"
        },
        "outputId": "72262982-3113-487a-db84-f899e24bb6df"
      },
      "execution_count": null,
      "outputs": [
        {
          "output_type": "execute_result",
          "data": {
            "text/plain": [
              "False"
            ]
          },
          "metadata": {},
          "execution_count": 3
        }
      ]
    },
    {
      "cell_type": "code",
      "source": [
        "def convertendo_inteiro_para_binario(numero):\n",
        "  digitos = ''\n",
        "  while numero: # Enquanto não for igual a 0.\n",
        "    resto = numero % 2\n",
        "    digitos = digitos + str(resto)\n",
        "    #print(digitos)\n",
        "    numero = numero // 2\n",
        "\n",
        "  resultado = digitos[::-1]\n",
        "  if not resultado:\n",
        "    return 0\n",
        "  return resultado\n",
        "\n",
        "\n",
        "#[int(n) for n in str(convertendo_inteiro_para_binario(1050))]\n",
        "# convertendo_inteiro_para_binario(int('18'))\n",
        "# convertendo_inteiro_para_binario(abs(int(0.1)))\n",
        "[int(n) for n in str(convertendo_inteiro_para_binario(int(17.09375)))]"
      ],
      "metadata": {
        "id": "bbRocKE3G4aL",
        "colab": {
          "base_uri": "https://localhost:8080/"
        },
        "outputId": "df396023-f30b-4cf7-db98-368aa2c55352"
      },
      "execution_count": null,
      "outputs": [
        {
          "output_type": "execute_result",
          "data": {
            "text/plain": [
              "[1, 0, 0, 0, 1]"
            ]
          },
          "metadata": {},
          "execution_count": 4
        }
      ]
    },
    {
      "cell_type": "code",
      "source": [
        "def conversor_numerico_inteiro(numero_original, base_numerica): # 00001000\n",
        "  if base_numerica == 'B': # Converter para binário\n",
        "    if abs(int(numero_original)) >= 2**7:\n",
        "      print(\"Overflow: o número não pode ser representado em 8 bits\")\n",
        "      return ''\n",
        "    numero = abs(int(numero_original))\n",
        "    #print(numero_original)\n",
        "    eh_negativo: bool = sinal_negativo_decimal(int(numero_original))\n",
        "    \n",
        "    resultado = convertendo_inteiro_para_binario(abs(int(numero)))\n",
        "    #print(resultado)\n",
        "\n",
        "    while len(resultado) < 7:\n",
        "      resultado = '0' + resultado\n",
        "\n",
        "    if eh_negativo:\n",
        "      return '1' + resultado\n",
        "    else:\n",
        "      return '0' + resultado\n",
        "  elif base_numerica == 'D' or base_numerica == 'D_2': # Converter de binário para decimal\n",
        "\n",
        "    if base_numerica == 'D':\n",
        "      numero = abs(int(numero_original[1:]))\n",
        "      #eh_negativo: bool = sinal_negativo_binario(numero_original)\n",
        "    elif base_numerica == 'D_2':\n",
        "      numero = abs(int(numero_original[6:]))\n",
        "      #eh_negativo: bool = False\n",
        "    eh_negativo: bool = sinal_negativo_binario(numero_original)\n",
        "\n",
        "    extensao = len(str(numero_original))\n",
        "    '''print('numero_original:', numero_original)\n",
        "    print('extensao:', extensao)\n",
        "    print('base_numerica:', base_numerica)'''\n",
        "    if extensao == 8:\n",
        "      nao_booleano = ['2','3','4','5','6','7','8','9']\n",
        "      for valor_nao_booleano in nao_booleano:\n",
        "        if valor_nao_booleano in str(numero):\n",
        "          raise ValueError('Favor, digitar somente 0 e 1 neste caso.')\n",
        "\n",
        "      numero_input: int = numero\n",
        "      expoente: int = 0\n",
        "      resultado: int = 0\n",
        "      while numero_input >= (10**expoente):\n",
        "        digito_posicional = numero % 10\n",
        "        numero = numero // 10\n",
        "        resultado += digito_posicional*(2**expoente)\n",
        "        #print(resultado)\n",
        "        expoente += 1\n",
        "\n",
        "      if eh_negativo:\n",
        "        return -abs(resultado)\n",
        "      else:\n",
        "        return resultado\n",
        "    else:\n",
        "      print(\n",
        "      'Digite números inteiros em 8 bits, o primeiro bit é somente para sinal.'\n",
        "          )\n",
        "\n",
        "\n",
        "\n",
        "# conversor_numerico_inteiro('-70', 'B')\n",
        "conversor_numerico_inteiro('10001001', 'D')"
      ],
      "metadata": {
        "id": "mJvZ2Mw-944T",
        "colab": {
          "base_uri": "https://localhost:8080/"
        },
        "outputId": "7857b1db-70b8-4026-cd58-01b5f8865a25"
      },
      "execution_count": null,
      "outputs": [
        {
          "output_type": "execute_result",
          "data": {
            "text/plain": [
              "-9"
            ]
          },
          "metadata": {},
          "execution_count": 35
        }
      ]
    },
    {
      "cell_type": "code",
      "source": [
        "def parte_decimal_em_binario(depois_do_ponto):\n",
        "  resultado = []\n",
        "  while len(resultado) <= 16:\n",
        "    depois_do_ponto *= 2\n",
        "    digito = depois_do_ponto // 1\n",
        "    resultado.append(int(digito))\n",
        "    if digito != 0:\n",
        "      depois_do_ponto -= 1\n",
        "  return resultado\n",
        "\n",
        "\n",
        "# parte_decimal_em_binario(0.00001525878)\n",
        "parte_decimal_em_binario(abs(-68.375) % 1)"
      ],
      "metadata": {
        "id": "Rp6mj9TcF6O2",
        "colab": {
          "base_uri": "https://localhost:8080/"
        },
        "outputId": "497e34df-09ae-44f3-cff1-a47da58fbc71"
      },
      "execution_count": null,
      "outputs": [
        {
          "output_type": "execute_result",
          "data": {
            "text/plain": [
              "[0, 1, 1, 0, 0, 0, 0, 0, 0, 0, 0, 0, 0, 0, 0, 0, 0]"
            ]
          },
          "metadata": {},
          "execution_count": 6
        }
      ]
    },
    {
      "cell_type": "code",
      "source": [
        "def conversor_numerico_real(numero, base_numerica):\n",
        "  if base_numerica == 'B':  # Decimal para binário.\n",
        "    if sinal_negativo_decimal(numero):\n",
        "      bit = 1\n",
        "    else:\n",
        "      bit = 0\n",
        "    # print('bit', bit)\n",
        "\n",
        "    numero = abs(float(numero))\n",
        "    if numero < 2**(-16):\n",
        "      return \"Underflow: o número não pode ser representado em ponto flutuante de 16 bits\"\n",
        "    \n",
        "    if numero > 2**16:\n",
        "      return \"Overflow: o número não pode ser representado em ponto flutuante de 16 bits\"\n",
        "\n",
        "    parte_decimal_binario = parte_decimal_em_binario(numero % 1)\n",
        "    # print(\"parte_decimal_binario\", parte_decimal_binario)  # Debug\n",
        "    parte_inteira_binario = [int(n) for n in \n",
        "                             str(convertendo_inteiro_para_binario(int(numero)))\n",
        "                             ]\n",
        "    # print(\"parte_inteira_binario\", parte_inteira_binario)  # Debug\n",
        "    mantissa = parte_inteira_binario + parte_decimal_binario\n",
        "    # mantissa = mantissa[:10]  # ver depois\n",
        "    # print('mantissa   ', mantissa)  # Debug\n",
        "\n",
        "\n",
        "    # Ajustando mantissa para que o primeiro dígito seja 1.\n",
        "    aumentando_expoente = 0\n",
        "    while mantissa[0] == 0:\n",
        "      mantissa.pop(0)\n",
        "      mantissa = mantissa + [0]\n",
        "      # print('mantissapop', mantissa)  # Debug\n",
        "    mantissa = mantissa[:10]\n",
        "    #print('expoente_binario', expoente_binario)\n",
        "\n",
        "    \n",
        "    # Expoente\n",
        "    if parte_inteira_binario == [0]:\n",
        "      '''Se a parte inteira for nula, procuro o dígito significativo na \n",
        "      parte decimal da esquerda para direita.'''\n",
        "      index = 0\n",
        "      expoente = -1\n",
        "      while parte_decimal_binario[index] == 0:\n",
        "        expoente -= 1\n",
        "        index += 1\n",
        "      # print('expoente', expoente)\n",
        "    else:\n",
        "      '''O primeiro dígito é sempre 1, logo, procuro a extensão. \n",
        "      Mas é preciso deixar o expoente com comprimento 5.'''\n",
        "      # print('parte_inteira_binario', parte_inteira_binario)  # Debug\n",
        "      expoente = len(parte_inteira_binario) -1\n",
        "      # print('expoente', expoente)  # Debug\n",
        "    expoente_binario = [int(n) for n in str(convertendo_inteiro_para_binario(\n",
        "                          expoente + 16\n",
        "                        ))]\n",
        "    # print('expoente_binario', expoente_binario)\n",
        "    if expoente < 0:\n",
        "      #print('expoente', expoente)\n",
        "      while len(expoente_binario) < 5:\n",
        "        expoente_binario = [0] + expoente_binario\n",
        "\n",
        "    # Enfim, devolvendo o número.\n",
        "    b = str(bit)\n",
        "    ex = ''\n",
        "    for i in expoente_binario:\n",
        "      ex += str(i)\n",
        "    if ex == '100000':\n",
        "      ex = '11111'\n",
        "    m = ''\n",
        "    for i in mantissa:\n",
        "      m += str(i)\n",
        "    print(b, ex, m)\n",
        "  \n",
        "  elif base_numerica == 'D':  # Binário para decimal.\n",
        "    if numero[6] != '1':\n",
        "      #print(numero[6])\n",
        "      return print(f\"A mantissa deve sempre começar com 1 em ponto flutuante. Está escrito {numero[6]}.\")\n",
        "\n",
        "    eh_negativo: bool = sinal_negativo_binario(numero)\n",
        "    expoente = conversor_numerico_inteiro('000' + numero[1:6], 'D') - 15  # 00001000\n",
        "    #print('expoente:',expoente)\n",
        "    parte_fracionaria_binaria = [int(n) for n in numero[6:]]  # Por enquanto toda mantissa.\n",
        "    #print('numero[6:]', numero[6:])\n",
        "    parte_inteira_binaria = []\n",
        "    parte_fracionaria_binaria \n",
        "    while expoente != 0:\n",
        "      if expoente > 0:\n",
        "        parte_inteira_binaria.append(parte_fracionaria_binaria[0])\n",
        "        #print('parte_inteira_binaria:', parte_inteira_binaria)\n",
        "        parte_fracionaria_binaria.pop(0)\n",
        "        #print('parte_fracionaria_binaria', parte_fracionaria_binaria)\n",
        "        if not parte_fracionaria_binaria:\n",
        "          parte_fracionaria_binaria.append(0)\n",
        "        expoente -= 1\n",
        "      elif expoente < 0:\n",
        "        parte_fracionaria_binaria = [0] + parte_fracionaria_binaria\n",
        "        #print('parte_fracionaria_binaria', parte_fracionaria_binaria)\n",
        "        expoente += 1\n",
        "    \n",
        "    expoente_base_2_inteiro = 0\n",
        "    parte_inteira_binaria.reverse()\n",
        "    parte_inteira_decimal = 0\n",
        "    for n in parte_inteira_binaria:\n",
        "      parte_inteira_decimal += n * 2 ** expoente_base_2_inteiro\n",
        "      expoente_base_2_inteiro += 1\n",
        "    \n",
        "    expoente_base_2_fracionario = -1\n",
        "    parte_fracionaria_decimal = 0\n",
        "    for n in parte_fracionaria_binaria:\n",
        "      parte_fracionaria_decimal += n * 2 ** expoente_base_2_fracionario\n",
        "      expoente_base_2_fracionario -= 1\n",
        "    \n",
        "    if eh_negativo:\n",
        "      return -abs(parte_inteira_decimal + parte_fracionaria_decimal)\n",
        "    else:\n",
        "      return parte_inteira_decimal + parte_fracionaria_decimal\n",
        "\n",
        "\n",
        "\n",
        "# conversor_numerico_real('1101001000100011', 'D')\n",
        "# conversor_numerico_real('-17.09375', 'B')\n",
        "conversor_numerico_real('0.1', 'B')\n",
        "# conversor_numerico_real('1.125', 'B')\n",
        "# conversor_numerico_real(\"-32832.0\", 'B')"
      ],
      "metadata": {
        "id": "x96ZZFNt_Cps",
        "colab": {
          "base_uri": "https://localhost:8080/"
        },
        "outputId": "63547048-c71f-40cd-81a4-d8c8e1d5847c"
      },
      "execution_count": null,
      "outputs": [
        {
          "output_type": "stream",
          "name": "stdout",
          "text": [
            "expoente -4\n",
            "0 01100 1100110011\n"
          ]
        }
      ]
    },
    {
      "cell_type": "code",
      "execution_count": null,
      "metadata": {
        "id": "h0spctSQH760",
        "colab": {
          "base_uri": "https://localhost:8080/",
          "height": 70
        },
        "outputId": "4238c9cd-5f32-4ff8-de08-f50a675f3fdd"
      },
      "outputs": [
        {
          "name": "stdout",
          "output_type": "stream",
          "text": [
            "Digite qualquer número: 0\n",
            "Digite B para converter de decimal para binário ou D para converter de binário para decimal: b\n"
          ]
        },
        {
          "output_type": "execute_result",
          "data": {
            "text/plain": [
              "'00000000'"
            ],
            "application/vnd.google.colaboratory.intrinsic+json": {
              "type": "string"
            }
          },
          "metadata": {},
          "execution_count": 34
        }
      ],
      "source": [
        "def conversor_numerico(numero_em_leitura, base_numerica):  # CÓPIA\n",
        "  numero_em_leitura = numero_em_leitura.replace(' ','')\n",
        "  eh_inteiro = float(numero_em_leitura)\n",
        "  extensao = len(numero_em_leitura)\n",
        "  #print(eh_inteiro)\n",
        "  #print('extensao:', extensao)\n",
        "  if eh_inteiro % 1 == 0 and extensao != 16:  # NÚMERO INTEIRO\n",
        "    if numero_em_leitura == '00000000':\n",
        "      return 0\n",
        "    if numero_em_leitura == '10000000':\n",
        "      return 0\n",
        "    if not eh_inteiro and base_numerica == \"B\":  # Caso for 0.\n",
        "      return '00000000'\n",
        "    \n",
        "    # print('inteiro')\n",
        "    numero_binario: int = conversor_numerico_inteiro(numero_em_leitura, base_numerica)\n",
        "    return numero_binario\n",
        "  else:  # NÚMERO REAL\n",
        "    if numero_em_leitura == '0000000000000000': \n",
        "      return 0\n",
        "    else:\n",
        "      numero_binario_real = conversor_numerico_real(numero_em_leitura, base_numerica)\n",
        "      #print('real')\n",
        "      return numero_binario_real\n",
        "\n",
        "\n",
        "n = input('Digite qualquer número: ')\n",
        "escolha: str = input(\n",
        " 'Digite B para converter de decimal para binário ou D\\\n",
        " para converter de binário para decimal: ').upper()\n",
        "\n",
        "conversor_numerico(n, escolha)\n"
      ]
    },
    {
      "cell_type": "markdown",
      "source": [
        "# Usando orientação a objetos (64 bits)"
      ],
      "metadata": {
        "id": "j6NWCcBC760T"
      }
    },
    {
      "cell_type": "markdown",
      "source": [
        "Projeto realizado após a entrega da atividade."
      ],
      "metadata": {
        "id": "3et3SuRTREwg"
      }
    },
    {
      "cell_type": "code",
      "source": [
        "def sinal_negativo_decimal(numero) -> bool:\n",
        "  numero = float(numero)\n",
        "  eh_negativo = False\n",
        "  if numero < 0:\n",
        "    eh_negativo = True\n",
        "  \n",
        "  return eh_negativo\n",
        "\n",
        "\n",
        "sinal_negativo_decimal('-15')"
      ],
      "metadata": {
        "colab": {
          "base_uri": "https://localhost:8080/"
        },
        "id": "8d2btTYp_9kw",
        "outputId": "e27e1e4c-4b8d-4afa-88b7-b54fd40a93ba"
      },
      "execution_count": null,
      "outputs": [
        {
          "output_type": "execute_result",
          "data": {
            "text/plain": [
              "True"
            ]
          },
          "metadata": {},
          "execution_count": 1
        }
      ]
    },
    {
      "cell_type": "code",
      "source": [
        "def sinal_negativo_binario(numero) -> bool:\n",
        "  #numero = int(numero)\n",
        "  eh_negativo = False\n",
        "  #print(numero[0])\n",
        "  if numero[0] == '1':\n",
        "    eh_negativo = True\n",
        "  \n",
        "  return eh_negativo\n",
        "\n",
        "\n",
        "sinal_negativo_binario('00000000001')"
      ],
      "metadata": {
        "colab": {
          "base_uri": "https://localhost:8080/"
        },
        "id": "_d2l0f-2_6hc",
        "outputId": "9079b202-94d9-4787-ecc1-7e8b9ac44a0c"
      },
      "execution_count": null,
      "outputs": [
        {
          "output_type": "execute_result",
          "data": {
            "text/plain": [
              "False"
            ]
          },
          "metadata": {},
          "execution_count": 2
        }
      ]
    },
    {
      "cell_type": "code",
      "source": [
        "def convertendo_inteiro_para_binario(numero):\n",
        "  digitos = ''\n",
        "  while numero: # Enquanto não for igual a 0.\n",
        "    resto = numero % 2\n",
        "    digitos = digitos + str(resto)\n",
        "    #print(digitos)\n",
        "    numero = numero // 2\n",
        "\n",
        "  resultado = digitos[::-1]\n",
        "  if not resultado:\n",
        "    return 0\n",
        "  return resultado\n",
        "\n",
        "\n",
        "#[int(n) for n in str(convertendo_inteiro_para_binario(1050))]\n",
        "# convertendo_inteiro_para_binario(int('18'))\n",
        "# convertendo_inteiro_para_binario(abs(int(0.1)))\n",
        "[int(n) for n in str(convertendo_inteiro_para_binario(int(17.09375)))]"
      ],
      "metadata": {
        "colab": {
          "base_uri": "https://localhost:8080/"
        },
        "id": "xhBfj47G_3P8",
        "outputId": "9dd2dbe6-f4c5-4e66-9ed1-a5d48ef050ed"
      },
      "execution_count": null,
      "outputs": [
        {
          "output_type": "execute_result",
          "data": {
            "text/plain": [
              "[1, 0, 0, 0, 1]"
            ]
          },
          "metadata": {},
          "execution_count": 3
        }
      ]
    },
    {
      "cell_type": "code",
      "source": [
        "def conversor_numerico_inteiro(numero_original, base_numerica): # 00001000\n",
        "  if base_numerica == 'B': # Converter para binário\n",
        "    if abs(int(float(numero_original))) >= 2**31:\n",
        "      return \"Overflow: o número não pode ser representado em 32 bits\"\n",
        "    numero = abs(int(float(numero_original)))\n",
        "    #print(numero_original)\n",
        "    eh_negativo: bool = sinal_negativo_decimal(int(float(numero_original)))\n",
        "    \n",
        "    resultado = convertendo_inteiro_para_binario(abs(int(numero)))\n",
        "    #print(resultado)\n",
        "\n",
        "    while len(resultado) < 31:\n",
        "      resultado = '0' + resultado\n",
        "\n",
        "    if eh_negativo:\n",
        "      return '1' + resultado\n",
        "    else:\n",
        "      return '0' + resultado\n",
        "  elif base_numerica == 'D': # Converter de binário para decimal\n",
        "\n",
        "    if base_numerica == 'D':\n",
        "      numero = abs(int(numero_original[1:]))\n",
        "      #eh_negativo: bool = sinal_negativo_binario(numero_original)\n",
        "    eh_negativo: bool = sinal_negativo_binario(numero_original)\n",
        "\n",
        "    extensao = len(str(numero_original))\n",
        "    '''print('numero_original:', numero_original)\n",
        "    print('extensao:', extensao)\n",
        "    print('base_numerica:', base_numerica)'''\n",
        "    if extensao == 32:\n",
        "      nao_booleano = ['2','3','4','5','6','7','8','9']\n",
        "      for valor_nao_booleano in nao_booleano:\n",
        "        if valor_nao_booleano in str(numero):\n",
        "          raise ValueError('Favor, digitar somente 0 e 1 neste caso.')\n",
        "\n",
        "      numero_input: int = numero\n",
        "      expoente: int = 0\n",
        "      resultado: int = 0\n",
        "      while numero_input >= (10**expoente):\n",
        "        digito_posicional = numero % 10\n",
        "        numero = numero // 10\n",
        "        resultado += digito_posicional*(2**expoente)\n",
        "        #print(resultado)\n",
        "        expoente += 1\n",
        "\n",
        "      if eh_negativo:\n",
        "        return -abs(resultado)\n",
        "      else:\n",
        "        return resultado\n",
        "    else:\n",
        "      return 'Digite números inteiros em 64 bits, o primeiro bit é somente para sinal.'\n",
        "\n",
        "\n",
        "\n",
        "# conversor_numerico_inteiro('-70', 'B')\n",
        "conversor_numerico_inteiro('00000000000000000000000000111100', 'D')"
      ],
      "metadata": {
        "colab": {
          "base_uri": "https://localhost:8080/"
        },
        "id": "PEC3S3Wl_z3l",
        "outputId": "f0c0b6f9-3788-4c0d-caf6-37bac54febe2"
      },
      "execution_count": null,
      "outputs": [
        {
          "output_type": "execute_result",
          "data": {
            "text/plain": [
              "60"
            ]
          },
          "metadata": {},
          "execution_count": 4
        }
      ]
    },
    {
      "cell_type": "code",
      "source": [
        "len('0100000000001000000000000000000000000000000000000000000000000000')"
      ],
      "metadata": {
        "colab": {
          "base_uri": "https://localhost:8080/"
        },
        "id": "CmYeqoV4ESTs",
        "outputId": "699b7330-55a2-4c17-ca80-825106a669a3"
      },
      "execution_count": null,
      "outputs": [
        {
          "output_type": "execute_result",
          "data": {
            "text/plain": [
              "64"
            ]
          },
          "metadata": {},
          "execution_count": 5
        }
      ]
    },
    {
      "cell_type": "code",
      "source": [
        "def parte_decimal_em_binario(depois_do_ponto):\n",
        "  resultado = []\n",
        "  while len(resultado) <= 1024:\n",
        "    depois_do_ponto *= 2\n",
        "    digito = depois_do_ponto // 1\n",
        "    resultado.append(int(digito))\n",
        "    if digito != 0:\n",
        "      depois_do_ponto -= 1\n",
        "  return resultado\n",
        "\n",
        "\n",
        "parte_decimal_em_binario(0.00001525878)\n",
        "# parte_decimal_em_binario(abs(-68.375) % 1)"
      ],
      "metadata": {
        "colab": {
          "base_uri": "https://localhost:8080/"
        },
        "id": "6CoIk21__t_H",
        "outputId": "4d255591-9031-4bc0-882b-ab5c53e4b209"
      },
      "execution_count": null,
      "outputs": [
        {
          "output_type": "execute_result",
          "data": {
            "text/plain": [
              "[0,\n",
              " 0,\n",
              " 0,\n",
              " 0,\n",
              " 0,\n",
              " 0,\n",
              " 0,\n",
              " 0,\n",
              " 0,\n",
              " 0,\n",
              " 0,\n",
              " 0,\n",
              " 0,\n",
              " 0,\n",
              " 0,\n",
              " 0,\n",
              " 1,\n",
              " 1,\n",
              " 1,\n",
              " 1,\n",
              " 1,\n",
              " 1,\n",
              " 1,\n",
              " 1,\n",
              " 1,\n",
              " 1,\n",
              " 1,\n",
              " 1,\n",
              " 1,\n",
              " 1,\n",
              " 1,\n",
              " 1,\n",
              " 1,\n",
              " 1,\n",
              " 1,\n",
              " 1,\n",
              " 0,\n",
              " 1,\n",
              " 1,\n",
              " 0,\n",
              " 0,\n",
              " 0,\n",
              " 0,\n",
              " 0,\n",
              " 1,\n",
              " 0,\n",
              " 0,\n",
              " 1,\n",
              " 0,\n",
              " 0,\n",
              " 1,\n",
              " 0,\n",
              " 0,\n",
              " 0,\n",
              " 1,\n",
              " 0,\n",
              " 0,\n",
              " 0,\n",
              " 0,\n",
              " 0,\n",
              " 1,\n",
              " 1,\n",
              " 0,\n",
              " 1,\n",
              " 1,\n",
              " 1,\n",
              " 0,\n",
              " 1,\n",
              " 1,\n",
              " 0,\n",
              " 0,\n",
              " 0,\n",
              " 0,\n",
              " 0,\n",
              " 0,\n",
              " 0,\n",
              " 0,\n",
              " 0,\n",
              " 0,\n",
              " 0,\n",
              " 0,\n",
              " 0,\n",
              " 0,\n",
              " 0,\n",
              " 0,\n",
              " 0,\n",
              " 0,\n",
              " 0,\n",
              " 0,\n",
              " 0,\n",
              " 0,\n",
              " 0,\n",
              " 0,\n",
              " 0,\n",
              " 0,\n",
              " 0,\n",
              " 0,\n",
              " 0,\n",
              " 0,\n",
              " 0,\n",
              " 0,\n",
              " 0,\n",
              " 0,\n",
              " 0,\n",
              " 0,\n",
              " 0,\n",
              " 0,\n",
              " 0,\n",
              " 0,\n",
              " 0,\n",
              " 0,\n",
              " 0,\n",
              " 0,\n",
              " 0,\n",
              " 0,\n",
              " 0,\n",
              " 0,\n",
              " 0,\n",
              " 0,\n",
              " 0,\n",
              " 0,\n",
              " 0,\n",
              " 0,\n",
              " 0,\n",
              " 0,\n",
              " 0,\n",
              " 0,\n",
              " 0,\n",
              " 0,\n",
              " 0,\n",
              " 0,\n",
              " 0,\n",
              " 0,\n",
              " 0,\n",
              " 0,\n",
              " 0,\n",
              " 0,\n",
              " 0,\n",
              " 0,\n",
              " 0,\n",
              " 0,\n",
              " 0,\n",
              " 0,\n",
              " 0,\n",
              " 0,\n",
              " 0,\n",
              " 0,\n",
              " 0,\n",
              " 0,\n",
              " 0,\n",
              " 0,\n",
              " 0,\n",
              " 0,\n",
              " 0,\n",
              " 0,\n",
              " 0,\n",
              " 0,\n",
              " 0,\n",
              " 0,\n",
              " 0,\n",
              " 0,\n",
              " 0,\n",
              " 0,\n",
              " 0,\n",
              " 0,\n",
              " 0,\n",
              " 0,\n",
              " 0,\n",
              " 0,\n",
              " 0,\n",
              " 0,\n",
              " 0,\n",
              " 0,\n",
              " 0,\n",
              " 0,\n",
              " 0,\n",
              " 0,\n",
              " 0,\n",
              " 0,\n",
              " 0,\n",
              " 0,\n",
              " 0,\n",
              " 0,\n",
              " 0,\n",
              " 0,\n",
              " 0,\n",
              " 0,\n",
              " 0,\n",
              " 0,\n",
              " 0,\n",
              " 0,\n",
              " 0,\n",
              " 0,\n",
              " 0,\n",
              " 0,\n",
              " 0,\n",
              " 0,\n",
              " 0,\n",
              " 0,\n",
              " 0,\n",
              " 0,\n",
              " 0,\n",
              " 0,\n",
              " 0,\n",
              " 0,\n",
              " 0,\n",
              " 0,\n",
              " 0,\n",
              " 0,\n",
              " 0,\n",
              " 0,\n",
              " 0,\n",
              " 0,\n",
              " 0,\n",
              " 0,\n",
              " 0,\n",
              " 0,\n",
              " 0,\n",
              " 0,\n",
              " 0,\n",
              " 0,\n",
              " 0,\n",
              " 0,\n",
              " 0,\n",
              " 0,\n",
              " 0,\n",
              " 0,\n",
              " 0,\n",
              " 0,\n",
              " 0,\n",
              " 0,\n",
              " 0,\n",
              " 0,\n",
              " 0,\n",
              " 0,\n",
              " 0,\n",
              " 0,\n",
              " 0,\n",
              " 0,\n",
              " 0,\n",
              " 0,\n",
              " 0,\n",
              " 0,\n",
              " 0,\n",
              " 0,\n",
              " 0,\n",
              " 0,\n",
              " 0,\n",
              " 0,\n",
              " 0,\n",
              " 0,\n",
              " 0,\n",
              " 0,\n",
              " 0,\n",
              " 0,\n",
              " 0,\n",
              " 0,\n",
              " 0,\n",
              " 0,\n",
              " 0,\n",
              " 0,\n",
              " 0,\n",
              " 0,\n",
              " 0,\n",
              " 0,\n",
              " 0,\n",
              " 0,\n",
              " 0,\n",
              " 0,\n",
              " 0,\n",
              " 0,\n",
              " 0,\n",
              " 0,\n",
              " 0,\n",
              " 0,\n",
              " 0,\n",
              " 0,\n",
              " 0,\n",
              " 0,\n",
              " 0,\n",
              " 0,\n",
              " 0,\n",
              " 0,\n",
              " 0,\n",
              " 0,\n",
              " 0,\n",
              " 0,\n",
              " 0,\n",
              " 0,\n",
              " 0,\n",
              " 0,\n",
              " 0,\n",
              " 0,\n",
              " 0,\n",
              " 0,\n",
              " 0,\n",
              " 0,\n",
              " 0,\n",
              " 0,\n",
              " 0,\n",
              " 0,\n",
              " 0,\n",
              " 0,\n",
              " 0,\n",
              " 0,\n",
              " 0,\n",
              " 0,\n",
              " 0,\n",
              " 0,\n",
              " 0,\n",
              " 0,\n",
              " 0,\n",
              " 0,\n",
              " 0,\n",
              " 0,\n",
              " 0,\n",
              " 0,\n",
              " 0,\n",
              " 0,\n",
              " 0,\n",
              " 0,\n",
              " 0,\n",
              " 0,\n",
              " 0,\n",
              " 0,\n",
              " 0,\n",
              " 0,\n",
              " 0,\n",
              " 0,\n",
              " 0,\n",
              " 0,\n",
              " 0,\n",
              " 0,\n",
              " 0,\n",
              " 0,\n",
              " 0,\n",
              " 0,\n",
              " 0,\n",
              " 0,\n",
              " 0,\n",
              " 0,\n",
              " 0,\n",
              " 0,\n",
              " 0,\n",
              " 0,\n",
              " 0,\n",
              " 0,\n",
              " 0,\n",
              " 0,\n",
              " 0,\n",
              " 0,\n",
              " 0,\n",
              " 0,\n",
              " 0,\n",
              " 0,\n",
              " 0,\n",
              " 0,\n",
              " 0,\n",
              " 0,\n",
              " 0,\n",
              " 0,\n",
              " 0,\n",
              " 0,\n",
              " 0,\n",
              " 0,\n",
              " 0,\n",
              " 0,\n",
              " 0,\n",
              " 0,\n",
              " 0,\n",
              " 0,\n",
              " 0,\n",
              " 0,\n",
              " 0,\n",
              " 0,\n",
              " 0,\n",
              " 0,\n",
              " 0,\n",
              " 0,\n",
              " 0,\n",
              " 0,\n",
              " 0,\n",
              " 0,\n",
              " 0,\n",
              " 0,\n",
              " 0,\n",
              " 0,\n",
              " 0,\n",
              " 0,\n",
              " 0,\n",
              " 0,\n",
              " 0,\n",
              " 0,\n",
              " 0,\n",
              " 0,\n",
              " 0,\n",
              " 0,\n",
              " 0,\n",
              " 0,\n",
              " 0,\n",
              " 0,\n",
              " 0,\n",
              " 0,\n",
              " 0,\n",
              " 0,\n",
              " 0,\n",
              " 0,\n",
              " 0,\n",
              " 0,\n",
              " 0,\n",
              " 0,\n",
              " 0,\n",
              " 0,\n",
              " 0,\n",
              " 0,\n",
              " 0,\n",
              " 0,\n",
              " 0,\n",
              " 0,\n",
              " 0,\n",
              " 0,\n",
              " 0,\n",
              " 0,\n",
              " 0,\n",
              " 0,\n",
              " 0,\n",
              " 0,\n",
              " 0,\n",
              " 0,\n",
              " 0,\n",
              " 0,\n",
              " 0,\n",
              " 0,\n",
              " 0,\n",
              " 0,\n",
              " 0,\n",
              " 0,\n",
              " 0,\n",
              " 0,\n",
              " 0,\n",
              " 0,\n",
              " 0,\n",
              " 0,\n",
              " 0,\n",
              " 0,\n",
              " 0,\n",
              " 0,\n",
              " 0,\n",
              " 0,\n",
              " 0,\n",
              " 0,\n",
              " 0,\n",
              " 0,\n",
              " 0,\n",
              " 0,\n",
              " 0,\n",
              " 0,\n",
              " 0,\n",
              " 0,\n",
              " 0,\n",
              " 0,\n",
              " 0,\n",
              " 0,\n",
              " 0,\n",
              " 0,\n",
              " 0,\n",
              " 0,\n",
              " 0,\n",
              " 0,\n",
              " 0,\n",
              " 0,\n",
              " 0,\n",
              " 0,\n",
              " 0,\n",
              " 0,\n",
              " 0,\n",
              " 0,\n",
              " 0,\n",
              " 0,\n",
              " 0,\n",
              " 0,\n",
              " 0,\n",
              " 0,\n",
              " 0,\n",
              " 0,\n",
              " 0,\n",
              " 0,\n",
              " 0,\n",
              " 0,\n",
              " 0,\n",
              " 0,\n",
              " 0,\n",
              " 0,\n",
              " 0,\n",
              " 0,\n",
              " 0,\n",
              " 0,\n",
              " 0,\n",
              " 0,\n",
              " 0,\n",
              " 0,\n",
              " 0,\n",
              " 0,\n",
              " 0,\n",
              " 0,\n",
              " 0,\n",
              " 0,\n",
              " 0,\n",
              " 0,\n",
              " 0,\n",
              " 0,\n",
              " 0,\n",
              " 0,\n",
              " 0,\n",
              " 0,\n",
              " 0,\n",
              " 0,\n",
              " 0,\n",
              " 0,\n",
              " 0,\n",
              " 0,\n",
              " 0,\n",
              " 0,\n",
              " 0,\n",
              " 0,\n",
              " 0,\n",
              " 0,\n",
              " 0,\n",
              " 0,\n",
              " 0,\n",
              " 0,\n",
              " 0,\n",
              " 0,\n",
              " 0,\n",
              " 0,\n",
              " 0,\n",
              " 0,\n",
              " 0,\n",
              " 0,\n",
              " 0,\n",
              " 0,\n",
              " 0,\n",
              " 0,\n",
              " 0,\n",
              " 0,\n",
              " 0,\n",
              " 0,\n",
              " 0,\n",
              " 0,\n",
              " 0,\n",
              " 0,\n",
              " 0,\n",
              " 0,\n",
              " 0,\n",
              " 0,\n",
              " 0,\n",
              " 0,\n",
              " 0,\n",
              " 0,\n",
              " 0,\n",
              " 0,\n",
              " 0,\n",
              " 0,\n",
              " 0,\n",
              " 0,\n",
              " 0,\n",
              " 0,\n",
              " 0,\n",
              " 0,\n",
              " 0,\n",
              " 0,\n",
              " 0,\n",
              " 0,\n",
              " 0,\n",
              " 0,\n",
              " 0,\n",
              " 0,\n",
              " 0,\n",
              " 0,\n",
              " 0,\n",
              " 0,\n",
              " 0,\n",
              " 0,\n",
              " 0,\n",
              " 0,\n",
              " 0,\n",
              " 0,\n",
              " 0,\n",
              " 0,\n",
              " 0,\n",
              " 0,\n",
              " 0,\n",
              " 0,\n",
              " 0,\n",
              " 0,\n",
              " 0,\n",
              " 0,\n",
              " 0,\n",
              " 0,\n",
              " 0,\n",
              " 0,\n",
              " 0,\n",
              " 0,\n",
              " 0,\n",
              " 0,\n",
              " 0,\n",
              " 0,\n",
              " 0,\n",
              " 0,\n",
              " 0,\n",
              " 0,\n",
              " 0,\n",
              " 0,\n",
              " 0,\n",
              " 0,\n",
              " 0,\n",
              " 0,\n",
              " 0,\n",
              " 0,\n",
              " 0,\n",
              " 0,\n",
              " 0,\n",
              " 0,\n",
              " 0,\n",
              " 0,\n",
              " 0,\n",
              " 0,\n",
              " 0,\n",
              " 0,\n",
              " 0,\n",
              " 0,\n",
              " 0,\n",
              " 0,\n",
              " 0,\n",
              " 0,\n",
              " 0,\n",
              " 0,\n",
              " 0,\n",
              " 0,\n",
              " 0,\n",
              " 0,\n",
              " 0,\n",
              " 0,\n",
              " 0,\n",
              " 0,\n",
              " 0,\n",
              " 0,\n",
              " 0,\n",
              " 0,\n",
              " 0,\n",
              " 0,\n",
              " 0,\n",
              " 0,\n",
              " 0,\n",
              " 0,\n",
              " 0,\n",
              " 0,\n",
              " 0,\n",
              " 0,\n",
              " 0,\n",
              " 0,\n",
              " 0,\n",
              " 0,\n",
              " 0,\n",
              " 0,\n",
              " 0,\n",
              " 0,\n",
              " 0,\n",
              " 0,\n",
              " 0,\n",
              " 0,\n",
              " 0,\n",
              " 0,\n",
              " 0,\n",
              " 0,\n",
              " 0,\n",
              " 0,\n",
              " 0,\n",
              " 0,\n",
              " 0,\n",
              " 0,\n",
              " 0,\n",
              " 0,\n",
              " 0,\n",
              " 0,\n",
              " 0,\n",
              " 0,\n",
              " 0,\n",
              " 0,\n",
              " 0,\n",
              " 0,\n",
              " 0,\n",
              " 0,\n",
              " 0,\n",
              " 0,\n",
              " 0,\n",
              " 0,\n",
              " 0,\n",
              " 0,\n",
              " 0,\n",
              " 0,\n",
              " 0,\n",
              " 0,\n",
              " 0,\n",
              " 0,\n",
              " 0,\n",
              " 0,\n",
              " 0,\n",
              " 0,\n",
              " 0,\n",
              " 0,\n",
              " 0,\n",
              " 0,\n",
              " 0,\n",
              " 0,\n",
              " 0,\n",
              " 0,\n",
              " 0,\n",
              " 0,\n",
              " 0,\n",
              " 0,\n",
              " 0,\n",
              " 0,\n",
              " 0,\n",
              " 0,\n",
              " 0,\n",
              " 0,\n",
              " 0,\n",
              " 0,\n",
              " 0,\n",
              " 0,\n",
              " 0,\n",
              " 0,\n",
              " 0,\n",
              " 0,\n",
              " 0,\n",
              " 0,\n",
              " 0,\n",
              " 0,\n",
              " 0,\n",
              " 0,\n",
              " 0,\n",
              " 0,\n",
              " 0,\n",
              " 0,\n",
              " 0,\n",
              " 0,\n",
              " 0,\n",
              " 0,\n",
              " 0,\n",
              " 0,\n",
              " 0,\n",
              " 0,\n",
              " 0,\n",
              " 0,\n",
              " 0,\n",
              " 0,\n",
              " 0,\n",
              " 0,\n",
              " 0,\n",
              " 0,\n",
              " 0,\n",
              " 0,\n",
              " 0,\n",
              " 0,\n",
              " 0,\n",
              " 0,\n",
              " 0,\n",
              " 0,\n",
              " 0,\n",
              " 0,\n",
              " 0,\n",
              " 0,\n",
              " 0,\n",
              " 0,\n",
              " 0,\n",
              " 0,\n",
              " 0,\n",
              " 0,\n",
              " 0,\n",
              " 0,\n",
              " 0,\n",
              " 0,\n",
              " 0,\n",
              " 0,\n",
              " 0,\n",
              " 0,\n",
              " 0,\n",
              " 0,\n",
              " 0,\n",
              " 0,\n",
              " 0,\n",
              " 0,\n",
              " 0,\n",
              " 0,\n",
              " 0,\n",
              " 0,\n",
              " 0,\n",
              " 0,\n",
              " 0,\n",
              " 0,\n",
              " 0,\n",
              " 0,\n",
              " 0,\n",
              " 0,\n",
              " 0,\n",
              " 0,\n",
              " 0,\n",
              " 0,\n",
              " 0,\n",
              " 0,\n",
              " 0,\n",
              " 0,\n",
              " 0,\n",
              " 0,\n",
              " 0,\n",
              " 0,\n",
              " 0,\n",
              " 0,\n",
              " 0,\n",
              " 0,\n",
              " 0,\n",
              " 0,\n",
              " 0,\n",
              " 0,\n",
              " 0,\n",
              " 0,\n",
              " 0,\n",
              " 0,\n",
              " 0,\n",
              " 0,\n",
              " 0,\n",
              " 0,\n",
              " 0,\n",
              " 0,\n",
              " 0,\n",
              " 0,\n",
              " 0,\n",
              " 0,\n",
              " 0,\n",
              " 0,\n",
              " 0,\n",
              " 0,\n",
              " 0,\n",
              " 0,\n",
              " 0,\n",
              " 0,\n",
              " 0,\n",
              " 0,\n",
              " 0,\n",
              " 0,\n",
              " 0,\n",
              " 0,\n",
              " 0,\n",
              " 0,\n",
              " 0,\n",
              " 0,\n",
              " 0,\n",
              " 0,\n",
              " 0,\n",
              " 0,\n",
              " 0,\n",
              " 0,\n",
              " 0,\n",
              " 0,\n",
              " 0,\n",
              " 0,\n",
              " 0,\n",
              " 0,\n",
              " 0,\n",
              " 0,\n",
              " 0,\n",
              " 0,\n",
              " 0,\n",
              " 0,\n",
              " 0,\n",
              " 0,\n",
              " 0,\n",
              " 0,\n",
              " 0,\n",
              " 0,\n",
              " 0,\n",
              " 0,\n",
              " 0,\n",
              " 0,\n",
              " 0,\n",
              " 0,\n",
              " 0,\n",
              " 0,\n",
              " 0,\n",
              " 0,\n",
              " 0,\n",
              " 0,\n",
              " 0,\n",
              " 0,\n",
              " 0,\n",
              " 0,\n",
              " 0,\n",
              " 0,\n",
              " 0,\n",
              " 0,\n",
              " 0,\n",
              " 0,\n",
              " 0,\n",
              " 0,\n",
              " 0,\n",
              " 0,\n",
              " 0,\n",
              " 0,\n",
              " 0,\n",
              " 0,\n",
              " 0,\n",
              " 0,\n",
              " 0,\n",
              " 0,\n",
              " 0,\n",
              " 0,\n",
              " 0,\n",
              " 0,\n",
              " 0,\n",
              " 0,\n",
              " 0,\n",
              " 0,\n",
              " 0,\n",
              " 0,\n",
              " 0,\n",
              " 0,\n",
              " 0,\n",
              " 0,\n",
              " 0,\n",
              " 0,\n",
              " 0,\n",
              " 0,\n",
              " 0,\n",
              " 0,\n",
              " 0,\n",
              " 0,\n",
              " 0,\n",
              " 0,\n",
              " 0,\n",
              " 0,\n",
              " 0,\n",
              " 0,\n",
              " 0,\n",
              " 0,\n",
              " 0,\n",
              " 0,\n",
              " 0,\n",
              " 0,\n",
              " 0,\n",
              " 0,\n",
              " 0,\n",
              " 0,\n",
              " 0,\n",
              " 0,\n",
              " 0,\n",
              " 0,\n",
              " 0,\n",
              " 0,\n",
              " 0,\n",
              " 0,\n",
              " 0,\n",
              " 0,\n",
              " 0,\n",
              " 0,\n",
              " 0,\n",
              " 0,\n",
              " 0,\n",
              " 0,\n",
              " 0,\n",
              " 0,\n",
              " 0,\n",
              " 0,\n",
              " 0,\n",
              " 0,\n",
              " 0,\n",
              " 0,\n",
              " 0,\n",
              " 0,\n",
              " 0,\n",
              " 0,\n",
              " 0,\n",
              " 0,\n",
              " 0,\n",
              " 0,\n",
              " 0,\n",
              " 0,\n",
              " 0,\n",
              " 0,\n",
              " 0,\n",
              " 0,\n",
              " 0,\n",
              " 0,\n",
              " 0,\n",
              " 0,\n",
              " 0,\n",
              " 0,\n",
              " 0,\n",
              " 0,\n",
              " 0,\n",
              " ...]"
            ]
          },
          "metadata": {},
          "execution_count": 6
        }
      ]
    },
    {
      "cell_type": "code",
      "source": [
        "2**(-1024)"
      ],
      "metadata": {
        "colab": {
          "base_uri": "https://localhost:8080/"
        },
        "id": "_e00Qy4oqJYj",
        "outputId": "e7f28aea-8ce2-45a2-c62a-a18f2a049cc3"
      },
      "execution_count": null,
      "outputs": [
        {
          "output_type": "execute_result",
          "data": {
            "text/plain": [
              "5.562684646268003e-309"
            ]
          },
          "metadata": {},
          "execution_count": 7
        }
      ]
    },
    {
      "cell_type": "code",
      "source": [
        "def conversor_numerico_real(numero, base_numerica):\n",
        "  if base_numerica == 'B':  # Decimal para binário.\n",
        "    if sinal_negativo_decimal(numero):\n",
        "      bit = 1\n",
        "    else:\n",
        "      bit = 0\n",
        "    # print('bit', bit)\n",
        "\n",
        "    numero = abs(float(numero))\n",
        "    if numero < 2**(-1024):\n",
        "      return \"Underflow: o número não pode ser representado em ponto flutuante de 64 bits\"\n",
        "    \n",
        "    if numero > 2**1024:\n",
        "      return \"Overflow: o número não pode ser representado em ponto flutuante de 64 bits\"\n",
        "\n",
        "    parte_decimal_binario = parte_decimal_em_binario(numero % 1)\n",
        "    # print(\"parte_decimal_binario\", parte_decimal_binario)  # Debug\n",
        "    parte_inteira_binario = [int(n) for n in \n",
        "                             str(convertendo_inteiro_para_binario(int(numero)))\n",
        "                             ]\n",
        "    # print(\"parte_inteira_binario\", parte_inteira_binario)  # Debug\n",
        "    mantissa = parte_inteira_binario + parte_decimal_binario\n",
        "    # print('mantissa   ', mantissa)  # Debug\n",
        "\n",
        "\n",
        "    # Ajustando mantissa para que o primeiro dígito seja 1.\n",
        "    while mantissa[0] == 0:\n",
        "      mantissa.pop(0)\n",
        "      mantissa = mantissa + [0]\n",
        "      # print('mantissapop', mantissa)  # Debug\n",
        "    mantissa = mantissa[:52]\n",
        "    # print('expoente_binario', expoente_binario)\n",
        "\n",
        "    \n",
        "    # Expoente\n",
        "    if parte_inteira_binario == [0]:\n",
        "      '''Se a parte inteira for nula, procuro o dígito significativo na \n",
        "      parte decimal da esquerda para direita.'''\n",
        "      index = 0\n",
        "      expoente = -1\n",
        "      while parte_decimal_binario[index] == 0:\n",
        "        expoente -= 1\n",
        "        index += 1\n",
        "      # print('expoente', expoente)\n",
        "    else:\n",
        "      '''O primeiro dígito é sempre 1, logo, procuro a extensão. \n",
        "      Mas é preciso deixar o expoente com comprimento 8.'''\n",
        "      # print('parte_inteira_binario', parte_inteira_binario)  # Debug\n",
        "      expoente = len(parte_inteira_binario) -1\n",
        "      # print('expoente', expoente)  # Debug\n",
        "    expoente_binario = [int(n) for n in str(convertendo_inteiro_para_binario(\n",
        "                          expoente + 1024\n",
        "                        ))]\n",
        "    # print('expoente_binario', expoente_binario)\n",
        "    if expoente < 0:\n",
        "      #print('expoente', expoente)\n",
        "      while len(expoente_binario) < 11:\n",
        "        expoente_binario = [0] + expoente_binario\n",
        "\n",
        "    # Enfim, devolvendo o número.\n",
        "    b = str(bit)\n",
        "    ex = ''\n",
        "    for i in expoente_binario:\n",
        "      ex += str(i)\n",
        "    # print('ex', ex)\n",
        "    if int(ex) >= 100000000000:\n",
        "      ex =   '11111111111'\n",
        "    m = ''\n",
        "    for i in mantissa:\n",
        "      m += str(i)\n",
        "    return \"{0} {1} {2}\".format(b, ex, m)\n",
        "  \n",
        "  elif base_numerica == 'D':  # Binário para decimal.\n",
        "    if numero[12] != '1':\n",
        "      # print(numero[12])\n",
        "      return f\"A mantissa deve sempre começar com 1 em ponto flutuante. Está escrito {numero[12]}.\"\n",
        "\n",
        "    eh_negativo: bool = sinal_negativo_binario(numero)\n",
        "    # print('numero[1:12]', numero[1:12])\n",
        "    expoente = conversor_numerico_inteiro('000000000000000000000' + numero[1:12], 'D') + 1 - 2**10\n",
        "    # print('expoente:',expoente)\n",
        "    parte_fracionaria_binaria = [int(n) for n in numero[12:]]  # Por enquanto toda mantissa.\n",
        "    #print('numero[12:]', numero[12:])\n",
        "    parte_inteira_binaria = []\n",
        "    parte_fracionaria_binaria \n",
        "    while expoente != 0:\n",
        "      if expoente > 0:\n",
        "        parte_inteira_binaria.append(parte_fracionaria_binaria[0])\n",
        "        #print('parte_inteira_binaria:', parte_inteira_binaria)\n",
        "        parte_fracionaria_binaria.pop(0)\n",
        "        #print('parte_fracionaria_binaria', parte_fracionaria_binaria)\n",
        "        if not parte_fracionaria_binaria:\n",
        "          parte_fracionaria_binaria.append(0)\n",
        "        expoente -= 1\n",
        "      elif expoente < 0:\n",
        "        parte_fracionaria_binaria = [0] + parte_fracionaria_binaria\n",
        "        #print('parte_fracionaria_binaria', parte_fracionaria_binaria)\n",
        "        expoente += 1\n",
        "    \n",
        "    expoente_base_2_inteiro = 0\n",
        "    parte_inteira_binaria.reverse()\n",
        "    parte_inteira_decimal = 0\n",
        "    for n in parte_inteira_binaria:\n",
        "      parte_inteira_decimal += n * 2 ** expoente_base_2_inteiro\n",
        "      expoente_base_2_inteiro += 1\n",
        "    \n",
        "    expoente_base_2_fracionario = -1\n",
        "    parte_fracionaria_decimal = 0\n",
        "    for n in parte_fracionaria_binaria:\n",
        "      parte_fracionaria_decimal += n * 2 ** expoente_base_2_fracionario\n",
        "      expoente_base_2_fracionario -= 1\n",
        "    \n",
        "    if eh_negativo:\n",
        "      return -abs(parte_inteira_decimal + parte_fracionaria_decimal)\n",
        "    else:\n",
        "      return parte_inteira_decimal + parte_fracionaria_decimal\n",
        "\n",
        "\n",
        "\n",
        "# conversor_numerico_real('11111111110001000110000000000000', 'D')\n",
        "# conversor_numerico_real('-17.09375', 'B')\n",
        "\n",
        "# conversor_numerico_real('0.1', 'B')\n",
        "# conversor_numerico_real('00111110011001100110011001100110', 'D')\n",
        "\n",
        "# conversor_numerico_real('0.015625', 'B')\n",
        "# conversor_numerico_real('0011111110101000000000000000000000000000000000000000000000000000', 'D')\n",
        "\n",
        "# '%0.400f' % conversor_numerico_real('0000010111101000000000000000000000000000000000000000000000000000', 'D')\n",
        "# conversor_numerico_real(\n",
        "#     '0.0000000000000000000000000000000000000000000000000000000000000000000000000000000000000000000000000000000000000000000000000000000000000000000000000000000000000000000000000000000000000000000000000000000000000000000000000000000000000000000000000000000000000000000000000000000000000001101803207925311020550086719466398033920845188111785964484478069137975413941702992858601691565157947409819860578100188404',\n",
        "#     'B')\n",
        "\n",
        "# '%0.400f' % conversor_numerico_real('0000000000001000000000000000000000000000000000000000000000000001', 'D')\n",
        "# conversor_numerico_real(\n",
        "#    '0.0000000000000000000000000000000000000000000000000000000000000000000000000000000000000000000000000000000000000000000000000000000000000000000000000000000000000000000000000000000000000000000000000000000000000000000000000000000000000000000000000000000000000000000000000000000000000000000000000000000000000000000056626846462680034577255817933310101605480399511558295763833185422180110870347954896357078975',\n",
        "#    'B')\n",
        "\n",
        "# conversor_numerico_real('1.125', 'B')\n",
        "# conversor_numerico_real('0100000000001001000000000000000000000000000000000000000000000000', 'D')\n",
        "\n",
        "\n",
        "# conversor_numerico_real('1', 'B')\n",
        "# conversor_numerico_real('0100000000001000000000000000000000000000000000000000000000000000', 'D')\n",
        "\n",
        "# conversor_numerico_real('0000000000011000000000000000000000000000000000000000000000000001', 'D')\n",
        "# conversor_numerico_real(\n",
        "#    '0.00000000000000000000000000000000000000000000000000000000000000000000000000000000000000000000000000000000000000000000000000000000000000000000000000000000000000000000000000000000000000000000000000000000000000000000000000000000000000000000000000000000000000000000000000000000000000000000000000000000000000000001112536929253601185610762199912746208678400858452538280336466322768366642992641598602648849715007375581870031501510285299140912526494460981084716548628655809340185007547879291540518264032696346',\n",
        "#    'B')\n",
        "\n",
        "# Maior valor possível\n",
        "# conversor_numerico_real(\n",
        "#     '179769313486231550856124328384506240234343437157459335924404872448581845754556114388470639943126220321960804027157371570809852884964511743044087662767600909594331927728237078876188760579532563768698654064825262115771015791463983014857704008123419459386245141723703148097529108423358883457665451722744025579520.0',\n",
        "#     'B')\n",
        "\n",
        "\n",
        "conversor_numerico_real('36893488147419086848',\n",
        "                        'B')"
      ],
      "metadata": {
        "colab": {
          "base_uri": "https://localhost:8080/",
          "height": 36
        },
        "id": "Kcw09GTW_p2J",
        "outputId": "ea5bb486-2281-4b9a-c17c-d8cb39528b5c"
      },
      "execution_count": null,
      "outputs": [
        {
          "output_type": "execute_result",
          "data": {
            "text/plain": [
              "'0 10001000000 1111111111111111111111111111111111111111111111111110'"
            ],
            "application/vnd.google.colaboratory.intrinsic+json": {
              "type": "string"
            }
          },
          "metadata": {},
          "execution_count": 60
        }
      ]
    },
    {
      "cell_type": "code",
      "source": [
        "len('100000000000')"
      ],
      "metadata": {
        "colab": {
          "base_uri": "https://localhost:8080/"
        },
        "id": "PsY3PDmpbbP-",
        "outputId": "3bf768af-9c8d-478d-d95f-969342a4d3b9"
      },
      "execution_count": null,
      "outputs": [
        {
          "output_type": "execute_result",
          "data": {
            "text/plain": [
              "12"
            ]
          },
          "metadata": {},
          "execution_count": 56
        }
      ]
    },
    {
      "cell_type": "code",
      "source": [
        "print('%0.500f' % 1.112536929253601e-308)\n",
        "print('%0.1f' % 1.7976931348623155e+308)\n",
        "print('%0.500f' % 2**(-1023))"
      ],
      "metadata": {
        "colab": {
          "base_uri": "https://localhost:8080/"
        },
        "id": "ua-_Kwwrdozb",
        "outputId": "c475efd8-2325-4788-c547-e82dc1e4801a"
      },
      "execution_count": null,
      "outputs": [
        {
          "output_type": "stream",
          "name": "stdout",
          "text": [
            "0.00000000000000000000000000000000000000000000000000000000000000000000000000000000000000000000000000000000000000000000000000000000000000000000000000000000000000000000000000000000000000000000000000000000000000000000000000000000000000000000000000000000000000000000000000000000000000000000000000000000000000000001112536929253601185610762199912746208678400858452538280336466322768366642992641598602648849715007375581870031501510285299140912526494460981084716548628655809340185007547879291540518264032696346\n",
            "179769313486231550856124328384506240234343437157459335924404872448581845754556114388470639943126220321960804027157371570809852884964511743044087662767600909594331927728237078876188760579532563768698654064825262115771015791463983014857704008123419459386245141723703148097529108423358883457665451722744025579520.0\n",
            "0.00000000000000000000000000000000000000000000000000000000000000000000000000000000000000000000000000000000000000000000000000000000000000000000000000000000000000000000000000000000000000000000000000000000000000000000000000000000000000000000000000000000000000000000000000000000000000000000000000000000000000000001112536929253600691545116358666202032109607990231165915276663708443602217406959097927141579506255510282033669865517905502576217080776730054428006192688859410565388996766001165239805073721291818\n"
          ]
        }
      ]
    },
    {
      "cell_type": "code",
      "source": [
        "class Numero:\n",
        "  def __init__(self, numero_em_leitura, base_numerica):\n",
        "\n",
        "    self.numero_em_leitura = numero_em_leitura\n",
        "\n",
        "    numero_em_leitura = numero_em_leitura.replace(' ','')\n",
        "    eh_inteiro = float(numero_em_leitura)\n",
        "    extensao = len(numero_em_leitura)\n",
        "    base_numerica = base_numerica.upper()\n",
        "    # print('numero_em_leitura', numero_em_leitura)\n",
        "    # print('eh_inteiro', eh_inteiro)\n",
        "    # print('extensao', extensao)\n",
        "    if eh_inteiro % 1 == 0 and extensao != 64 and abs(int(float(numero_em_leitura))) < 2**31:  # NÚMERO INTEIRO\n",
        "      # print('NÚMERO INTEIRO')\n",
        "      if numero_em_leitura == '0000000000000000000000000000000000000000000000000000000000000000': \n",
        "        self.conversao =  0\n",
        "      if numero_em_leitura == '00000000000000000000000000000000':\n",
        "        self.conversao =   0\n",
        "      if not eh_inteiro and base_numerica == \"B\":  # Caso for 0.\n",
        "        self.conversao = '00000000000000000000000000000000'\n",
        "      \n",
        "      print('numero_em_leitura', numero_em_leitura)\n",
        "      numero_binario: int = conversor_numerico_inteiro(numero_em_leitura, \n",
        "                                                       base_numerica)\n",
        "      # print(numero_binario)\n",
        "      self.conversao =   numero_binario\n",
        "    else:  # NÚMERO REAL\n",
        "      # print('NÚMERO REAL')\n",
        "      numero_binario_real = conversor_numerico_real(numero_em_leitura, \n",
        "                                                    base_numerica)\n",
        "      # print('numero_binario_real', numero_binario_real)\n",
        "      self.conversao =   numero_binario_real\n",
        "\n",
        "  def __str__(self):\n",
        "    return f\"convertido: {self.conversao} \\ndigitado: {self.numero_em_leitura}\"\n",
        "\n",
        "  @property\n",
        "  def convertido(self):\n",
        "    return self.conversao\n",
        "  \n",
        "  @property\n",
        "  def digitado(self):\n",
        "    return self.numero_em_leitura\n",
        "\n",
        "\n",
        "um_decimo = Numero('0.1', 'b')\n",
        "print(um_decimo)\n",
        "um_decimo.convertido"
      ],
      "metadata": {
        "colab": {
          "base_uri": "https://localhost:8080/",
          "height": 70
        },
        "id": "dVZgTQeiqY3G",
        "outputId": "431a702e-71aa-444e-8125-ba5432d26a13"
      },
      "execution_count": null,
      "outputs": [
        {
          "output_type": "stream",
          "name": "stdout",
          "text": [
            "convertido: 0 01111111100 1100110011001100110011001100110011001100110011001101 \n",
            "digitado: 0.1\n"
          ]
        },
        {
          "output_type": "execute_result",
          "data": {
            "text/plain": [
              "'0 01111111100 1100110011001100110011001100110011001100110011001101'"
            ],
            "application/vnd.google.colaboratory.intrinsic+json": {
              "type": "string"
            }
          },
          "metadata": {},
          "execution_count": 80
        }
      ]
    },
    {
      "cell_type": "code",
      "source": [
        "um_decimo.digitado"
      ],
      "metadata": {
        "colab": {
          "base_uri": "https://localhost:8080/",
          "height": 36
        },
        "id": "GGoqMhcyGqtR",
        "outputId": "02dfb3df-cdf5-45c0-ab19-ecd032b05ab2"
      },
      "execution_count": null,
      "outputs": [
        {
          "output_type": "execute_result",
          "data": {
            "text/plain": [
              "'0.1'"
            ],
            "application/vnd.google.colaboratory.intrinsic+json": {
              "type": "string"
            }
          },
          "metadata": {},
          "execution_count": 81
        }
      ]
    },
    {
      "cell_type": "code",
      "source": [
        "len('0 11111111111 1111111111111111111111111111111111111111111111111111')"
      ],
      "metadata": {
        "colab": {
          "base_uri": "https://localhost:8080/"
        },
        "id": "gVHXi-WDG6ex",
        "outputId": "5f02793c-5ab9-46c2-c007-af7a13fd3aa7"
      },
      "execution_count": null,
      "outputs": [
        {
          "output_type": "execute_result",
          "data": {
            "text/plain": [
              "66"
            ]
          },
          "metadata": {},
          "execution_count": 82
        }
      ]
    },
    {
      "cell_type": "code",
      "source": [
        "nove_negativo = Numero('1000000000001001', 'd')\n",
        "print(nove_negativo)\n",
        "nove_negativo.digitado"
      ],
      "metadata": {
        "colab": {
          "base_uri": "https://localhost:8080/",
          "height": 70
        },
        "id": "9WdI4Pqr8GZa",
        "outputId": "38b51393-68a6-4788-efbc-af8a7f49b8c3"
      },
      "execution_count": null,
      "outputs": [
        {
          "output_type": "stream",
          "name": "stdout",
          "text": [
            "convertido: -6.258020227051504e-309 \n",
            "digitado: 1000000000001001\n"
          ]
        },
        {
          "output_type": "execute_result",
          "data": {
            "text/plain": [
              "'1000000000001001'"
            ],
            "application/vnd.google.colaboratory.intrinsic+json": {
              "type": "string"
            }
          },
          "metadata": {},
          "execution_count": 83
        }
      ]
    },
    {
      "cell_type": "code",
      "source": [
        "cinco = Numero('-5', \"b\")\n",
        "print(cinco)\n",
        "cinco.digitado"
      ],
      "metadata": {
        "colab": {
          "base_uri": "https://localhost:8080/",
          "height": 88
        },
        "id": "hwQpeXBtDkr-",
        "outputId": "93d5d9d8-ecec-4883-db1f-02978c556f6f"
      },
      "execution_count": null,
      "outputs": [
        {
          "output_type": "stream",
          "name": "stdout",
          "text": [
            "numero_em_leitura -5\n",
            "convertido: 10000000000000000000000000000101 \n",
            "digitado: -5\n"
          ]
        },
        {
          "output_type": "execute_result",
          "data": {
            "text/plain": [
              "'-5'"
            ],
            "application/vnd.google.colaboratory.intrinsic+json": {
              "type": "string"
            }
          },
          "metadata": {},
          "execution_count": 84
        }
      ]
    },
    {
      "cell_type": "code",
      "source": [
        "minusculo = Numero('0 00000000000 1000000000000000000000000000000000000000000000000000', 'D')\n",
        "print(minusculo)\n",
        "minusculo.convertido"
      ],
      "metadata": {
        "colab": {
          "base_uri": "https://localhost:8080/"
        },
        "id": "uoOf3LizHM8g",
        "outputId": "ee64ebcc-bbc5-4f0f-a880-38c0649e1533"
      },
      "execution_count": null,
      "outputs": [
        {
          "output_type": "stream",
          "name": "stdout",
          "text": [
            "convertido: 5.562684646268003e-309 \n",
            "digitado: 0 00000000000 1000000000000000000000000000000000000000000000000000\n"
          ]
        },
        {
          "output_type": "execute_result",
          "data": {
            "text/plain": [
              "5.562684646268003e-309"
            ]
          },
          "metadata": {},
          "execution_count": 85
        }
      ]
    },
    {
      "cell_type": "code",
      "source": [
        "maximo_inteiro = Numero('0111111111111111', 'D')\n",
        "print(maximo_inteiro)"
      ],
      "metadata": {
        "colab": {
          "base_uri": "https://localhost:8080/"
        },
        "id": "1CrKyPZzjaU5",
        "outputId": "97795c5c-7958-4902-e157-42d317937af7"
      },
      "execution_count": null,
      "outputs": [
        {
          "output_type": "stream",
          "name": "stdout",
          "text": [
            "convertido: 1.6853373139334212e+308 \n",
            "digitado: 0111111111111111\n"
          ]
        }
      ]
    },
    {
      "cell_type": "code",
      "source": [
        "n_32767 = Numero('32767', 'B')\n",
        "print(n_32767)"
      ],
      "metadata": {
        "id": "QsR_kayfDXwH",
        "colab": {
          "base_uri": "https://localhost:8080/"
        },
        "outputId": "16171652-40c5-4ae6-8e27-a96463fa9ee0"
      },
      "execution_count": null,
      "outputs": [
        {
          "output_type": "stream",
          "name": "stdout",
          "text": [
            "numero_em_leitura 32767\n",
            "convertido: 00000000000000000111111111111111 \n",
            "digitado: 32767\n"
          ]
        }
      ]
    },
    {
      "cell_type": "code",
      "source": [
        "maximo_possivel = Numero('0 11111111111 1111111111111111111111111111111111111111111111111111', 'D')\n",
        "print(maximo_possivel)\n",
        "'%f' % (maximo_possivel.convertido)"
      ],
      "metadata": {
        "colab": {
          "base_uri": "https://localhost:8080/",
          "height": 88
        },
        "id": "E2w7Oy0kxInv",
        "outputId": "cfb22089-a38a-4998-ed8b-f59b68aa7148"
      },
      "execution_count": null,
      "outputs": [
        {
          "output_type": "stream",
          "name": "stdout",
          "text": [
            "convertido: 1.7976931348623155e+308 \n",
            "digitado: 0 11111111111 1111111111111111111111111111111111111111111111111111\n"
          ]
        },
        {
          "output_type": "execute_result",
          "data": {
            "text/plain": [
              "'179769313486231550856124328384506240234343437157459335924404872448581845754556114388470639943126220321960804027157371570809852884964511743044087662767600909594331927728237078876188760579532563768698654064825262115771015791463983014857704008123419459386245141723703148097529108423358883457665451722744025579520.000000'"
            ],
            "application/vnd.google.colaboratory.intrinsic+json": {
              "type": "string"
            }
          },
          "metadata": {},
          "execution_count": 88
        }
      ]
    },
    {
      "cell_type": "code",
      "source": [
        "desconhecido_grande = Numero('0 11111111111 1000000000000000000000000000000000000000000000000000', 'D')\n",
        "print(desconhecido_grande)\n",
        "'%0.40f' % (desconhecido_grande.convertido)"
      ],
      "metadata": {
        "colab": {
          "base_uri": "https://localhost:8080/",
          "height": 88
        },
        "id": "faVrrUfWUdP9",
        "outputId": "399942c3-6b13-4ace-ff6a-74f707a1e743"
      },
      "execution_count": null,
      "outputs": [
        {
          "output_type": "stream",
          "name": "stdout",
          "text": [
            "convertido: 8.98846567431158e+307 \n",
            "digitado: 0 11111111111 1000000000000000000000000000000000000000000000000000\n"
          ]
        },
        {
          "output_type": "execute_result",
          "data": {
            "text/plain": [
              "'89884656743115795386465259539451236680898848947115328636715040578866337902750481566354238661203768010560056939935696678829394884407208311246423715319737062188883946712432742638151109800623047059726541476042502884419075341171231440736956555270413618581675255342293149119973622969239858152417678164812112068608.0000000000000000000000000000000000000000'"
            ],
            "application/vnd.google.colaboratory.intrinsic+json": {
              "type": "string"
            }
          },
          "metadata": {},
          "execution_count": 89
        }
      ]
    },
    {
      "cell_type": "code",
      "source": [
        "desconhecido_grande_2 = Numero('0 11111111110 1111111111111111111111111111111111111111111111111111', 'D')\n",
        "print(desconhecido_grande_2)\n",
        "'%0.40f' % (desconhecido_grande_2.convertido)"
      ],
      "metadata": {
        "colab": {
          "base_uri": "https://localhost:8080/",
          "height": 88
        },
        "id": "KToHQ1sAU8uL",
        "outputId": "f22a65c6-2458-434b-9a8f-6c996dff5bf2"
      },
      "execution_count": null,
      "outputs": [
        {
          "output_type": "stream",
          "name": "stdout",
          "text": [
            "convertido: 8.988465674311578e+307 \n",
            "digitado: 0 11111111110 1111111111111111111111111111111111111111111111111111\n"
          ]
        },
        {
          "output_type": "execute_result",
          "data": {
            "text/plain": [
              "'89884656743115775428062164192253120117171718578729667962202436224290922877278057194235319971563110160980402013578685785404926442482255871522043831383800454797165963864118539438094380289766281884349327032412631057885507895731991507428852004061709729693122570861851574048764554211679441728832725861372012789760.0000000000000000000000000000000000000000'"
            ],
            "application/vnd.google.colaboratory.intrinsic+json": {
              "type": "string"
            }
          },
          "metadata": {},
          "execution_count": 93
        }
      ]
    },
    {
      "cell_type": "code",
      "source": [
        "desconhecido_grande_3 = Numero(\n",
        "    '179769313486231550856124328384506240234343437157459335924404872448581845754556114388470639943126220321960804027157371570809852884964511743044087662767600909594331927728237078876188760579532563768698654064825262115771015791463983014857704008123419459386245141723703148097529108423358883457665451722744025579520.000000',\n",
        "    'B')\n",
        "print(desconhecido_grande_3)\n",
        "\"{:e}\".format(float(desconhecido_grande_3.digitado))"
      ],
      "metadata": {
        "colab": {
          "base_uri": "https://localhost:8080/",
          "height": 90
        },
        "id": "vIqYGcGlV5xO",
        "outputId": "926f7449-95bb-4231-96ad-2c3920e7693d"
      },
      "execution_count": null,
      "outputs": [
        {
          "output_type": "stream",
          "name": "stdout",
          "text": [
            "convertido: 0 11111111111 1111111111111111111111111111111111111111111111111111 \n",
            "digitado: 179769313486231550856124328384506240234343437157459335924404872448581845754556114388470639943126220321960804027157371570809852884964511743044087662767600909594331927728237078876188760579532563768698654064825262115771015791463983014857704008123419459386245141723703148097529108423358883457665451722744025579520.000000\n"
          ]
        },
        {
          "output_type": "execute_result",
          "data": {
            "text/plain": [
              "'1.797693e+308'"
            ],
            "application/vnd.google.colaboratory.intrinsic+json": {
              "type": "string"
            }
          },
          "metadata": {},
          "execution_count": 92
        }
      ]
    },
    {
      "cell_type": "code",
      "source": [
        "desconhecido_grande_5 = Numero('0 11111111111 1111111111111111111111111111111111111111111111111110', 'D')\n",
        "print(desconhecido_grande_5)\n",
        "'%0.40f' % (desconhecido_grande_5.convertido)"
      ],
      "metadata": {
        "colab": {
          "base_uri": "https://localhost:8080/",
          "height": 88
        },
        "id": "Z7UK9fPVYfIK",
        "outputId": "4b413f04-8140-45a1-be8d-e99027c5c926"
      },
      "execution_count": null,
      "outputs": [
        {
          "output_type": "stream",
          "name": "stdout",
          "text": [
            "convertido: 1.7976931348623151e+308 \n",
            "digitado: 0 11111111111 1111111111111111111111111111111111111111111111111110\n"
          ]
        },
        {
          "output_type": "execute_result",
          "data": {
            "text/plain": [
              "'179769313486231510939318137690110007106889176420688014575379663739431015703611265644232802563844904622801494174443349783960916001114606863595327894895727694810895962031608672476075301557819033417944225177565518462703880900585503148241494905706011681609139772762819997955110970908238050610495547115863827021824.0000000000000000000000000000000000000000'"
            ],
            "application/vnd.google.colaboratory.intrinsic+json": {
              "type": "string"
            }
          },
          "metadata": {},
          "execution_count": 90
        }
      ]
    },
    {
      "cell_type": "code",
      "source": [
        "desconhecido_grande_6_valor = str(maximo_possivel.convertido - desconhecido_grande_5.convertido)\n",
        "\n",
        "desconhecido_grande_6 = Numero(desconhecido_grande_6_valor, 'B')\n",
        "print(desconhecido_grande_6)"
      ],
      "metadata": {
        "colab": {
          "base_uri": "https://localhost:8080/"
        },
        "id": "wa6ySRdvYI3z",
        "outputId": "bf87b653-d536-4d3b-c240-21d36ab0b208"
      },
      "execution_count": null,
      "outputs": [
        {
          "output_type": "stream",
          "name": "stdout",
          "text": [
            "convertido: 0 11111001100 1000000000000000000000000000000000000000000000000000 \n",
            "digitado: 3.99168061906944e+292\n"
          ]
        }
      ]
    },
    {
      "cell_type": "code",
      "source": [
        "desconhecido_grande_6_inverso = Numero('0 11111001100 1000000000000000000000000000000000000000000000000000', 'D')\n",
        "print(desconhecido_grande_6_inverso)"
      ],
      "metadata": {
        "colab": {
          "base_uri": "https://localhost:8080/"
        },
        "id": "J_lYCsmVXjMy",
        "outputId": "ac4fb885-e23b-4c2c-88ff-d969ec22f970"
      },
      "execution_count": null,
      "outputs": [
        {
          "output_type": "stream",
          "name": "stdout",
          "text": [
            "convertido: 3.99168061906944e+292 \n",
            "digitado: 0 11111001100 1000000000000000000000000000000000000000000000000000\n"
          ]
        }
      ]
    },
    {
      "cell_type": "code",
      "source": [
        "desconhecido_grande_5_outro_valor = str(maximo_possivel.convertido - desconhecido_grande_6_inverso.convertido)\n",
        "\n",
        "desconhecido_grande_5_outro = Numero(desconhecido_grande_5_outro_valor, 'B')\n",
        "print(desconhecido_grande_5_outro)"
      ],
      "metadata": {
        "colab": {
          "base_uri": "https://localhost:8080/"
        },
        "id": "c-E70qDYacRp",
        "outputId": "fc850a98-4c73-4e3b-bab0-ed072d9938f1"
      },
      "execution_count": null,
      "outputs": [
        {
          "output_type": "stream",
          "name": "stdout",
          "text": [
            "convertido: 0 11111111111 1111111111111111111111111111111111111111111111111110 \n",
            "digitado: 1.7976931348623151e+308\n"
          ]
        }
      ]
    },
    {
      "cell_type": "code",
      "source": [
        "print(maximo_possivel.convertido - desconhecido_grande_5.convertido)\n",
        "'%0.1f' % (maximo_possivel.convertido - desconhecido_grande_5.convertido)"
      ],
      "metadata": {
        "colab": {
          "base_uri": "https://localhost:8080/",
          "height": 70
        },
        "id": "8zLegIhbVKrc",
        "outputId": "1a955fc3-4741-47c7-cfef-0cafb02d798d"
      },
      "execution_count": null,
      "outputs": [
        {
          "output_type": "stream",
          "name": "stdout",
          "text": [
            "3.99168061906944e+292\n"
          ]
        },
        {
          "output_type": "execute_result",
          "data": {
            "text/plain": [
              "'39916806190694396233127454260736771321349025208709150830050944848744237837379281315699159309852714021786848936883849904879448759767871873214783435965696628406400113459021713530350754428887259743653067134890878479866616209102417407777777105368960883150142418137515120832847169904606880198557696.0'"
            ],
            "application/vnd.google.colaboratory.intrinsic+json": {
              "type": "string"
            }
          },
          "metadata": {},
          "execution_count": 91
        }
      ]
    },
    {
      "cell_type": "code",
      "source": [
        "'%0.2f' % (3.99168061906944e+292)"
      ],
      "metadata": {
        "colab": {
          "base_uri": "https://localhost:8080/",
          "height": 53
        },
        "id": "IZOl8AInTJkG",
        "outputId": "29797e13-3e86-46c9-f5ec-26a0386efaf9"
      },
      "execution_count": null,
      "outputs": [
        {
          "output_type": "execute_result",
          "data": {
            "text/plain": [
              "'39916806190694396233127454260736771321349025208709150830050944848744237837379281315699159309852714021786848936883849904879448759767871873214783435965696628406400113459021713530350754428887259743653067134890878479866616209102417407777777105368960883150142418137515120832847169904606880198557696.00'"
            ],
            "application/vnd.google.colaboratory.intrinsic+json": {
              "type": "string"
            }
          },
          "metadata": {},
          "execution_count": 95
        }
      ]
    },
    {
      "cell_type": "code",
      "source": [
        "desconhecido_grande_7 = Numero(\n",
        "    '39916806190694396233127454260736771321349025208709150830050944848744237837379281315699159309852714021786848936883849904879448759767871873214783435965696628406400113459021713530350754428887259743653067134890878479866616209102417407777777105368960883150142418137515120832847169904606880198557696.00', \n",
        "    'B')\n",
        "print(desconhecido_grande_7)\n",
        "# '%0.2f' % (desconhecido_grande_7.convertido)"
      ],
      "metadata": {
        "colab": {
          "base_uri": "https://localhost:8080/"
        },
        "id": "x0YhoRPGSkFo",
        "outputId": "d1321a44-cd7d-499a-bc8d-828825f97071"
      },
      "execution_count": null,
      "outputs": [
        {
          "output_type": "stream",
          "name": "stdout",
          "text": [
            "convertido: 0 11111001100 1000000000000000000000000000000000000000000000000000 \n",
            "digitado: 39916806190694396233127454260736771321349025208709150830050944848744237837379281315699159309852714021786848936883849904879448759767871873214783435965696628406400113459021713530350754428887259743653067134890878479866616209102417407777777105368960883150142418137515120832847169904606880198557696.00\n"
          ]
        }
      ]
    },
    {
      "cell_type": "code",
      "source": [
        "desconhecido_grande_8 = Numero('0 10000100000 1111111111111111111111111111111111111111111111111110', 'D')\n",
        "print(desconhecido_grande_8)\n",
        "'%0.90f' % (desconhecido_grande_8.convertido)"
      ],
      "metadata": {
        "colab": {
          "base_uri": "https://localhost:8080/",
          "height": 70
        },
        "id": "90m-U8zwTYvW",
        "outputId": "8fd38156-87b2-43c9-ebd7-25b56c478627"
      },
      "execution_count": null,
      "outputs": [
        {
          "output_type": "stream",
          "name": "stdout",
          "text": [
            "convertido: 8589934591.999996 \n",
            "digitado: 0 10000100000 1111111111111111111111111111111111111111111111111110\n"
          ]
        },
        {
          "output_type": "execute_result",
          "data": {
            "text/plain": [
              "'8589934591.999996185302734375000000000000000000000000000000000000000000000000000000000000000000000000'"
            ],
            "application/vnd.google.colaboratory.intrinsic+json": {
              "type": "string"
            }
          },
          "metadata": {},
          "execution_count": 103
        }
      ]
    },
    {
      "cell_type": "code",
      "source": [
        "desconhecido_grande_8 = Numero('8589934591.999996185302734375000000000000000000000000000000000000000000000000000000000000000000000000', 'B')\n",
        "print(desconhecido_grande_8)"
      ],
      "metadata": {
        "colab": {
          "base_uri": "https://localhost:8080/"
        },
        "id": "herYnlMjUNhR",
        "outputId": "5424b55e-5365-4e8a-c9d6-53a5360c3de2"
      },
      "execution_count": null,
      "outputs": [
        {
          "output_type": "stream",
          "name": "stdout",
          "text": [
            "convertido: 0 10000100000 1111111111111111111111111111111111111111111111111110 \n",
            "digitado: 8589934591.999996185302734375000000000000000000000000000000000000000000000000000000000000000000000000\n"
          ]
        }
      ]
    },
    {
      "cell_type": "code",
      "source": [
        "len('10000000000')"
      ],
      "metadata": {
        "colab": {
          "base_uri": "https://localhost:8080/"
        },
        "id": "UciYFaO4ThEi",
        "outputId": "1c634a5f-daae-4915-d377-09322a04ed03"
      },
      "execution_count": null,
      "outputs": [
        {
          "output_type": "execute_result",
          "data": {
            "text/plain": [
              "11"
            ]
          },
          "metadata": {},
          "execution_count": 99
        }
      ]
    }
  ]
}