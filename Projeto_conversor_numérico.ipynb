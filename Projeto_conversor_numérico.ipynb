Célula de texto <kZxRJUd18Ab0>
#%% [markdown]
# Trabalho inicial (16 bits):

Célula de texto <oePVk00lzZVW>
#%% [markdown]

Cálculo numérico 1 - MAT174 - Universidade Federal da Bahia

Componentes: Ana Carolina Reboucas Oliveira, Akhenaton Andrade Serafim Gomes , Bruna Victoria Assis Soares, Diego Santos Nobre Barreto, Laryane Nascimento dos Santos, Paulo Vitor Lessa

Célula de código <CEcY3D5fGIxI>
#%% [code]
def sinal_negativo_decimal(numero) -> bool:
  numero = float(numero)
  eh_negativo = False
  if numero < 0:
    eh_negativo = True
  
  return eh_negativo


sinal_negativo_decimal('-15')
Saída da execução a partir de 28 de dez. de 2022 23:14
0KB
	text/plain
		True

Célula de código <7tRYgm4j1xYz>
#%% [code]
def sinal_negativo_binario(numero) -> bool:
  #numero = int(numero)
  eh_negativo = False
  #print(numero[0])
  if numero[0] == '1':
    eh_negativo = True
  
  return eh_negativo


sinal_negativo_binario('00000001')
Saída da execução a partir de 28 de dez. de 2022 23:14
0KB
	text/plain
		False

Célula de código <bbRocKE3G4aL>
#%% [code]
def convertendo_inteiro_para_binario(numero):
  digitos = ''
  while numero: # Enquanto não for igual a 0.
    resto = numero % 2
    digitos = digitos + str(resto)
    #print(digitos)
    numero = numero // 2

  resultado = digitos[::-1]
  if not resultado:
    return 0
  return resultado


#[int(n) for n in str(convertendo_inteiro_para_binario(1050))]
# convertendo_inteiro_para_binario(int('18'))
# convertendo_inteiro_para_binario(abs(int(0.1)))
[int(n) for n in str(convertendo_inteiro_para_binario(int(17.09375)))]
Saída da execução a partir de 28 de dez. de 2022 23:14
0KB
	text/plain
		[1, 0, 0, 0, 1]

Célula de código <mJvZ2Mw-944T>
#%% [code]
def conversor_numerico_inteiro(numero_original, base_numerica): # 00001000
  if base_numerica == 'B': # Converter para binário
    if abs(int(numero_original)) >= 2**7:
      print("Overflow: o número não pode ser representado em 8 bits")
      return ''
    numero = abs(int(numero_original))
    #print(numero_original)
    eh_negativo: bool = sinal_negativo_decimal(int(numero_original))
    
    resultado = convertendo_inteiro_para_binario(abs(int(numero)))
    #print(resultado)

    while len(resultado) < 7:
      resultado = '0' + resultado

    if eh_negativo:
      return '1' + resultado
    else:
      return '0' + resultado
  elif base_numerica == 'D' or base_numerica == 'D_2': # Converter de binário para decimal

    if base_numerica == 'D':
      numero = abs(int(numero_original[1:]))
      #eh_negativo: bool = sinal_negativo_binario(numero_original)
    elif base_numerica == 'D_2':
      numero = abs(int(numero_original[6:]))
      #eh_negativo: bool = False
    eh_negativo: bool = sinal_negativo_binario(numero_original)

    extensao = len(str(numero_original))
    '''print('numero_original:', numero_original)
    print('extensao:', extensao)
    print('base_numerica:', base_numerica)'''
    if extensao == 8:
      nao_booleano = ['2','3','4','5','6','7','8','9']
      for valor_nao_booleano in nao_booleano:
        if valor_nao_booleano in str(numero):
          raise ValueError('Favor, digitar somente 0 e 1 neste caso.')

      numero_input: int = numero
      expoente: int = 0
      resultado: int = 0
      while numero_input >= (10**expoente):
        digito_posicional = numero % 10
        numero = numero // 10
        resultado += digito_posicional*(2**expoente)
        #print(resultado)
        expoente += 1

      if eh_negativo:
        return -abs(resultado)
      else:
        return resultado
    else:
      print(
      'Digite números inteiros em 8 bits, o primeiro bit é somente para sinal.'
          )



# conversor_numerico_inteiro('-70', 'B')
conversor_numerico_inteiro('10001001', 'D')
Saída da execução a partir de 29 de dez. de 2022 00:42
0KB
	text/plain
		-9

Célula de código <Rp6mj9TcF6O2>
#%% [code]
def parte_decimal_em_binario(depois_do_ponto):
  resultado = []
  while len(resultado) <= 16:
    depois_do_ponto *= 2
    digito = depois_do_ponto // 1
    resultado.append(int(digito))
    if digito != 0:
      depois_do_ponto -= 1
  return resultado


# parte_decimal_em_binario(0.00001525878)
parte_decimal_em_binario(abs(-68.375) % 1)
Saída da execução a partir de 28 de dez. de 2022 23:14
0KB
	text/plain
		[0, 1, 1, 0, 0, 0, 0, 0, 0, 0, 0, 0, 0, 0, 0, 0, 0]

Célula de código <x96ZZFNt_Cps>
#%% [code]
def conversor_numerico_real(numero, base_numerica):
  if base_numerica == 'B':  # Decimal para binário.
    if sinal_negativo_decimal(numero):
      bit = 1
    else:
      bit = 0
    # print('bit', bit)

    numero = abs(float(numero))
    if numero < 2**(-16):
      return "Underflow: o número não pode ser representado em ponto flutuante de 16 bits"
    
    if numero > 2**16:
      return "Overflow: o número não pode ser representado em ponto flutuante de 16 bits"

    parte_decimal_binario = parte_decimal_em_binario(numero % 1)
    # print("parte_decimal_binario", parte_decimal_binario)  # Debug
    parte_inteira_binario = [int(n) for n in 
                             str(convertendo_inteiro_para_binario(int(numero)))
                             ]
    # print("parte_inteira_binario", parte_inteira_binario)  # Debug
    mantissa = parte_inteira_binario + parte_decimal_binario
    # mantissa = mantissa[:10]  # ver depois
    # print('mantissa   ', mantissa)  # Debug


    # Ajustando mantissa para que o primeiro dígito seja 1.
    aumentando_expoente = 0
    while mantissa[0] == 0:
      mantissa.pop(0)
      mantissa = mantissa + [0]
      # print('mantissapop', mantissa)  # Debug
    mantissa = mantissa[:10]
    #print('expoente_binario', expoente_binario)

    
    # Expoente
    if parte_inteira_binario == [0]:
      '''Se a parte inteira for nula, procuro o dígito significativo na 
      parte decimal da esquerda para direita.'''
      index = 0
      expoente = -1
      while parte_decimal_binario[index] == 0:
        expoente -= 1
        index += 1
      # print('expoente', expoente)
    else:
      '''O primeiro dígito é sempre 1, logo, procuro a extensão. 
      Mas é preciso deixar o expoente com comprimento 5.'''
      # print('parte_inteira_binario', parte_inteira_binario)  # Debug
      expoente = len(parte_inteira_binario) -1
      # print('expoente', expoente)  # Debug
    expoente_binario = [int(n) for n in str(convertendo_inteiro_para_binario(
                          expoente + 16
                        ))]
    # print('expoente_binario', expoente_binario)
    if expoente < 0:
      #print('expoente', expoente)
      while len(expoente_binario) < 5:
        expoente_binario = [0] + expoente_binario

    # Enfim, devolvendo o número.
    b = str(bit)
    ex = ''
    for i in expoente_binario:
      ex += str(i)
    if ex == '100000':
      ex = '11111'
    m = ''
    for i in mantissa:
      m += str(i)
    print(b, ex, m)
  
  elif base_numerica == 'D':  # Binário para decimal.
    if numero[6] != '1':
      #print(numero[6])
      return print(f"A mantissa deve sempre começar com 1 em ponto flutuante. Está escrito {numero[6]}.")

    eh_negativo: bool = sinal_negativo_binario(numero)
    expoente = conversor_numerico_inteiro('000' + numero[1:6], 'D') - 15  # 00001000
    #print('expoente:',expoente)
    parte_fracionaria_binaria = [int(n) for n in numero[6:]]  # Por enquanto toda mantissa.
    #print('numero[6:]', numero[6:])
    parte_inteira_binaria = []
    parte_fracionaria_binaria 
    while expoente != 0:
      if expoente > 0:
        parte_inteira_binaria.append(parte_fracionaria_binaria[0])
        #print('parte_inteira_binaria:', parte_inteira_binaria)
        parte_fracionaria_binaria.pop(0)
        #print('parte_fracionaria_binaria', parte_fracionaria_binaria)
        if not parte_fracionaria_binaria:
          parte_fracionaria_binaria.append(0)
        expoente -= 1
      elif expoente < 0:
        parte_fracionaria_binaria = [0] + parte_fracionaria_binaria
        #print('parte_fracionaria_binaria', parte_fracionaria_binaria)
        expoente += 1
    
    expoente_base_2_inteiro = 0
    parte_inteira_binaria.reverse()
    parte_inteira_decimal = 0
    for n in parte_inteira_binaria:
      parte_inteira_decimal += n * 2 ** expoente_base_2_inteiro
      expoente_base_2_inteiro += 1
    
    expoente_base_2_fracionario = -1
    parte_fracionaria_decimal = 0
    for n in parte_fracionaria_binaria:
      parte_fracionaria_decimal += n * 2 ** expoente_base_2_fracionario
      expoente_base_2_fracionario -= 1
    
    if eh_negativo:
      return -abs(parte_inteira_decimal + parte_fracionaria_decimal)
    else:
      return parte_inteira_decimal + parte_fracionaria_decimal



# conversor_numerico_real('1101001000100011', 'D')
# conversor_numerico_real('-17.09375', 'B')
conversor_numerico_real('0.1', 'B')
# conversor_numerico_real('1.125', 'B')
# conversor_numerico_real("-32832.0", 'B')
Saída da execução a partir de 28 de dez. de 2022 23:14
0KB
	Stream
		expoente -4
		0 01100 1100110011

Célula de código <h0spctSQH760>
#%% [code]
def conversor_numerico(numero_em_leitura, base_numerica):  # CÓPIA
  numero_em_leitura = numero_em_leitura.replace(' ','')
  eh_inteiro = float(numero_em_leitura)
  extensao = len(numero_em_leitura)
  #print(eh_inteiro)
  #print('extensao:', extensao)
  if eh_inteiro % 1 == 0 and extensao != 16:  # NÚMERO INTEIRO
    if numero_em_leitura == '00000000':
      return 0
    if numero_em_leitura == '10000000':
      return 0
    if not eh_inteiro and base_numerica == "B":  # Caso for 0.
      return '00000000'
    
    # print('inteiro')
    numero_binario: int = conversor_numerico_inteiro(numero_em_leitura, base_numerica)
    return numero_binario
  else:  # NÚMERO REAL
    if numero_em_leitura == '0000000000000000': 
      return 0
    else:
      numero_binario_real = conversor_numerico_real(numero_em_leitura, base_numerica)
      #print('real')
      return numero_binario_real


n = input('Digite qualquer número: ')
escolha: str = input(
 'Digite B para converter de decimal para binário ou D\
 para converter de binário para decimal: ').upper()

conversor_numerico(n, escolha)

Saída da execução a partir de 29 de dez. de 2022 01:18
0KB
	Stream
		Digite qualquer número: 0
		Digite B para converter de decimal para binário ou D para converter de binário para decimal: b
	text/plain
		'00000000'

Célula de texto <j6NWCcBC760T>
#%% [markdown]
# Usando orientação a objetos (64 bits)

Célula de texto <3et3SuRTREwg>
#%% [markdown]
Projeto realizado após a entrega da atividade.

Célula de código <8d2btTYp_9kw>
#%% [code]
def sinal_negativo_decimal(numero) -> bool:
  numero = float(numero)
  eh_negativo = False
  if numero < 0:
    eh_negativo = True
  
  return eh_negativo


sinal_negativo_decimal('-15')
Saída da execução a partir de 10 de jan. de 2023 17:00
0KB
	text/plain
		True

Célula de código <_d2l0f-2_6hc>
#%% [code]
def sinal_negativo_binario(numero) -> bool:
  #numero = int(numero)
  eh_negativo = False
  #print(numero[0])
  if numero[0] == '1':
    eh_negativo = True
  
  return eh_negativo


sinal_negativo_binario('00000000001')
Saída da execução a partir de 10 de jan. de 2023 17:00
0KB
	text/plain
		False

Célula de código <xhBfj47G_3P8>
#%% [code]
def convertendo_inteiro_para_binario(numero):
  digitos = ''
  while numero: # Enquanto não for igual a 0.
    resto = numero % 2
    digitos = digitos + str(resto)
    #print(digitos)
    numero = numero // 2

  resultado = digitos[::-1]
  if not resultado:
    return 0
  return resultado


#[int(n) for n in str(convertendo_inteiro_para_binario(1050))]
# convertendo_inteiro_para_binario(int('18'))
# convertendo_inteiro_para_binario(abs(int(0.1)))
[int(n) for n in str(convertendo_inteiro_para_binario(int(17.09375)))]
Saída da execução a partir de 10 de jan. de 2023 17:00
0KB
	text/plain
		[1, 0, 0, 0, 1]

Célula de código <PEC3S3Wl_z3l>
#%% [code]
def conversor_numerico_inteiro(numero_original, base_numerica): # 00001000
  if base_numerica == 'B': # Converter para binário
    if abs(int(float(numero_original))) >= 2**31:
      return "Overflow: o número não pode ser representado em 32 bits"
    numero = abs(int(float(numero_original)))
    #print(numero_original)
    eh_negativo: bool = sinal_negativo_decimal(int(float(numero_original)))
    
    resultado = convertendo_inteiro_para_binario(abs(int(numero)))
    #print(resultado)

    while len(resultado) < 31:
      resultado = '0' + resultado

    if eh_negativo:
      return '1' + resultado
    else:
      return '0' + resultado
  elif base_numerica == 'D': # Converter de binário para decimal

    if base_numerica == 'D':
      numero = abs(int(numero_original[1:]))
      #eh_negativo: bool = sinal_negativo_binario(numero_original)
    eh_negativo: bool = sinal_negativo_binario(numero_original)

    extensao = len(str(numero_original))
    '''print('numero_original:', numero_original)
    print('extensao:', extensao)
    print('base_numerica:', base_numerica)'''
    if extensao == 32:
      nao_booleano = ['2','3','4','5','6','7','8','9']
      for valor_nao_booleano in nao_booleano:
        if valor_nao_booleano in str(numero):
          raise ValueError('Favor, digitar somente 0 e 1 neste caso.')

      numero_input: int = numero
      expoente: int = 0
      resultado: int = 0
      while numero_input >= (10**expoente):
        digito_posicional = numero % 10
        numero = numero // 10
        resultado += digito_posicional*(2**expoente)
        #print(resultado)
        expoente += 1

      if eh_negativo:
        return -abs(resultado)
      else:
        return resultado
    else:
      return 'Digite números inteiros em 64 bits, o primeiro bit é somente para sinal.'



# conversor_numerico_inteiro('-70', 'B')
conversor_numerico_inteiro('00000000000000000000000000111100', 'D')
Saída da execução a partir de 10 de jan. de 2023 17:00
0KB
	text/plain
		60

Célula de código <CmYeqoV4ESTs>
#%% [code]
len('0100000000001000000000000000000000000000000000000000000000000000')
Saída da execução a partir de 10 de jan. de 2023 17:00
0KB
	text/plain
		64

Célula de código <6CoIk21__t_H>
#%% [code]
def parte_decimal_em_binario(depois_do_ponto):
  resultado = []
  while len(resultado) <= 1024:
    depois_do_ponto *= 2
    digito = depois_do_ponto // 1
    resultado.append(int(digito))
    if digito != 0:
      depois_do_ponto -= 1
  return resultado


parte_decimal_em_binario(0.00001525878)
# parte_decimal_em_binario(abs(-68.375) % 1)
Saída da execução a partir de 10 de jan. de 2023 17:00
8KB
	text/plain
		[0,
		 0,
		 0,
		 0,
		 0,
		 0,
		 0,
		 0,
		 0,
		 0,
		 0,
		 0,
		 0,
		 0,
		 0,
		 0,
		 1,
		 1,
		 1,
		 1,
		 1,
		 1,
		 1,
		 1,
		 1,
		 1,
		 1,
		 1,
		 1,
		 1,
		 1,
		 1,
		 1,
		 1,
		 1,
		 1,
		 0,
		 1,
		 1,
		 0,
		 0,
		 0,
		 0,
		 0,
		 1,
		 0,
		 0,
		 1,
		 0,
		 0,
		 1,
		 0,
		 0,
		 0,
		 1,
		 0,
		 0,
		 0,
		 0,
		 0,
		 1,
		 1,
		 0,
		 1,
		 1,
		 1,
		 0,
		 1,
		 1,
		 0,
		 0,
		 0,
		 0,
		 0,
		 0,
		 0,
		 0,
		 0,
		 0,
		 0,
		 0,
		 0,
		 0,
		 0,
		 0,
		 0,
		 0,
		 0,
		 0,
		 0,
		 0,
		 0,
		 0,
		 0,
		 0,
		 0,
		 0,
		 0,
		 0,
		 0,
		 0,
		 0,
		 0,
		 0,
		 0,
		 0,
		 0,
		 0,
		 0,
		 0,
		 0,
		 0,
		 0,
		 0,
		 0,
		 0,
		 0,
		 0,
		 0,
		 0,
		 0,
		 0,
		 0,
		 0,
		 0,
		 0,
		 0,
		 0,
		 0,
		 0,
		 0,
		 0,
		 0,
		 0,
		 0,
		 0,
		 0,
		 0,
		 0,
		 0,
		 0,
		 0,
		 0,
		 0,
		 0,
		 0,
		 0,
		 0,
		 0,
		 0,
		 0,
		 0,
		 0,
		 0,
		 0,
		 0,
		 0,
		 0,
		 0,
		 0,
		 0,
		 0,
		 0,
		 0,
		 0,
		 0,
		 0,
		 0,
		 0,
		 0,
		 0,
		 0,
		 0,
		 0,
		 0,
		 0,
		 0,
		 0,
		 0,
		 0,
		 0,
		 0,
		 0,
		 0,
		 0,
		 0,
		 0,
		 0,
		 0,
		 0,
		 0,
		 0,
		 0,
		 0,
		 0,
		 0,
		 0,
		 0,
		 0,
		 0,
		 0,
		 0,
		 0,
		 0,
		 0,
		 0,
		 0,
		 0,
		 0,
		 0,
		 0,
		 0,
		 0,
		 0,
		 0,
		 0,
		 0,
		 0,
		 0,
		 0,
		 0,
		 0,
		 0,
		 0,
		 0,
		 0,
		 0,
		 0,
		 0,
		 0,
		 0,
		 0,
		 0,
		 0,
		 0,
		 0,
		 0,
		 0,
		 0,
		 0,
		 0,
		 0,
		 0,
		 0,
		 0,
		 0,
		 0,
		 0,
		 0,
		 0,
		 0,
		 0,
		 0,
		 0,
		 0,
		 0,
		 0,
		 0,
		 0,
		 0,
		 0,
		 0,
		 0,
		 0,
		 0,
		 0,
		 0,
		 0,
		 0,
		 0,
		 0,
		 0,
		 0,
		 0,
		 0,
		 0,
		 0,
		 0,
		 0,
		 0,
		 0,
		 0,
		 0,
		 0,
		 0,
		 0,
		 0,
		 0,
		 0,
		 0,
		 0,
		 0,
		 0,
		 0,
		 0,
		 0,
		 0,
		 0,
		 0,
		 0,
		 0,
		 0,
		 0,
		 0,
		 0,
		 0,
		 0,
		 0,
		 0,
		 0,
		 0,
		 0,
		 0,
		 0,
		 0,
		 0,
		 0,
		 0,
		 0,
		 0,
		 0,
		 0,
		 0,
		 0,
		 0,
		 0,
		 0,
		 0,
		 0,
		 0,
		 0,
		 0,
		 0,
		 0,
		 0,
		 0,
		 0,
		 0,
		 0,
		 0,
		 0,
		 0,
		 0,
		 0,
		 0,
		 0,
		 0,
		 0,
		 0,
		 0,
		 0,
		 0,
		 0,
		 0,
		 0,
		 0,
		 0,
		 0,
		 0,
		 0,
		 0,
		 0,
		 0,
		 0,
		 0,
		 0,
		 0,
		 0,
		 0,
		 0,
		 0,
		 0,
		 0,
		 0,
		 0,
		 0,
		 0,
		 0,
		 0,
		 0,
		 0,
		 0,
		 0,
		 0,
		 0,
		 0,
		 0,
		 0,
		 0,
		 0,
		 0,
		 0,
		 0,
		 0,
		 0,
		 0,
		 0,
		 0,
		 0,
		 0,
		 0,
		 0,
		 0,
		 0,
		 0,
		 0,
		 0,
		 0,
		 0,
		 0,
		 0,
		 0,
		 0,
		 0,
		 0,
		 0,
		 0,
		 0,
		 0,
		 0,
		 0,
		 0,
		 0,
		 0,
		 0,
		 0,
		 0,
		 0,
		 0,
		 0,
		 0,
		 0,
		 0,
		 0,
		 0,
		 0,
		 0,
		 0,
		 0,
		 0,
		 0,
		 0,
		 0,
		 0,
		 0,
		 0,
		 0,
		 0,
		 0,
		 0,
		 0,
		 0,
		 0,
		 0,
		 0,
		 0,
		 0,
		 0,
		 0,
		 0,
		 0,
		 0,
		 0,
		 0,
		 0,
		 0,
		 0,
		 0,
		 0,
		 0,
		 0,
		 0,
		 0,
		 0,
		 0,
		 0,
		 0,
		 0,
		 0,
		 0,
		 0,
		 0,
		 0,
		 0,
		 0,
		 0,
		 0,
		 0,
		 0,
		 0,
		 0,
		 0,
		 0,
		 0,
		 0,
		 0,
		 0,
		 0,
		 0,
		 0,
		 0,
		 0,
		 0,
		 0,
		 0,
		 0,
		 0,
		 0,
		 0,
		 0,
		 0,
		 0,
		 0,
		 0,
		 0,
		 0,
		 0,
		 0,
		 0,
		 0,
		 0,
		 0,
		 0,
		 0,
		 0,
		 0,
		 0,
		 0,
		 0,
		 0,
		 0,
		 0,
		 0,
		 0,
		 0,
		 0,
		 0,
		 0,
		 0,
		 0,
		 0,
		 0,
		 0,
		 0,
		 0,
		 0,
		 0,
		 0,
		 0,
		 0,
		 0,
		 0,
		 0,
		 0,
		 0,
		 0,
		 0,
		 0,
		 0,
		 0,
		 0,
		 0,
		 0,
		 0,
		 0,
		 0,
		 0,
		 0,
		 0,
		 0,
		 0,
		 0,
		 0,
		 0,
		 0,
		 0,
		 0,
		 0,
		 0,
		 0,
		 0,
		 0,
		 0,
		 0,
		 0,
		 0,
		 0,
		 0,
		 0,
		 0,
		 0,
		 0,
		 0,
		 0,
		 0,
		 0,
		 0,
		 0,
		 0,
		 0,
		 0,
		 0,
		 0,
		 0,
		 0,
		 0,
		 0,
		 0,
		 0,
		 0,
		 0,
		 0,
		 0,
		 0,
		 0,
		 0,
		 0,
		 0,
		 0,
		 0,
		 0,
		 0,
		 0,
		 0,
		 0,
		 0,
		 0,
		 0,
		 0,
		 0,
		 0,
		 0,
		 0,
		 0,
		 0,
		 0,
		 0,
		 0,
		 0,
		 0,
		 0,
		 0,
		 0,
		 0,
		 0,
		 0,
		 0,
		 0,
		 0,
		 0,
		 0,
		 0,
		 0,
		 0,
		 0,
		 0,
		 0,
		 0,
		 0,
		 0,
		 0,
		 0,
		 0,
		 0,
		 0,
		 0,
		 0,
		 0,
		 0,
		 0,
		 0,
		 0,
		 0,
		 0,
		 0,
		 0,
		 0,
		 0,
		 0,
		 0,
		 0,
		 0,
		 0,
		 0,
		 0,
		 0,
		 0,
		 0,
		 0,
		 0,
		 0,
		 0,
		 0,
		 0,
		 0,
		 0,
		 0,
		 0,
		 0,
		 0,
		 0,
		 0,
		 0,
		 0,
		 0,
		 0,
		 0,
		 0,
		 0,
		 0,
		 0,
		 0,
		 0,
		 0,
		 0,
		 0,
		 0,
		 0,
		 0,
		 0,
		 0,
		 0,
		 0,
		 0,
		 0,
		 0,
		 0,
		 0,
		 0,
		 0,
		 0,
		 0,
		 0,
		 0,
		 0,
		 0,
		 0,
		 0,
		 0,
		 0,
		 0,
		 0,
		 0,
		 0,
		 0,
		 0,
		 0,
		 0,
		 0,
		 0,
		 0,
		 0,
		 0,
		 0,
		 0,
		 0,
		 0,
		 0,
		 0,
		 0,
		 0,
		 0,
		 0,
		 0,
		 0,
		 0,
		 0,
		 0,
		 0,
		 0,
		 0,
		 0,
		 0,
		 0,
		 0,
		 0,
		 0,
		 0,
		 0,
		 0,
		 0,
		 0,
		 0,
		 0,
		 0,
		 0,
		 0,
		 0,
		 0,
		 0,
		 0,
		 0,
		 0,
		 0,
		 0,
		 0,
		 0,
		 0,
		 0,
		 0,
		 0,
		 0,
		 0,
		 0,
		 0,
		 0,
		 0,
		 0,
		 0,
		 0,
		 0,
		 0,
		 0,
		 0,
		 0,
		 0,
		 0,
		 0,
		 0,
		 0,
		 0,
		 0,
		 0,
		 0,
		 0,
		 0,
		 0,
		 0,
		 0,
		 0,
		 0,
		 0,
		 0,
		 0,
		 0,
		 0,
		 0,
		 0,
		 0,
		 0,
		 0,
		 0,
		 0,
		 0,
		 0,
		 0,
		 0,
		 0,
		 0,
		 0,
		 0,
		 0,
		 0,
		 0,
		 0,
		 0,
		 0,
		 0,
		 0,
		 0,
		 0,
		 0,
		 0,
		 0,
		 0,
		 0,
		 0,
		 0,
		 0,
		 0,
		 0,
		 0,
		 0,
		 0,
		 0,
		 0,
		 0,
		 0,
		 0,
		 0,
		 0,
		 0,
		 0,
		 0,
		 0,
		 0,
		 0,
		 0,
		 0,
		 0,
		 0,
		 0,
		 0,
		 0,
		 0,
		 0,
		 0,
		 0,
		 0,
		 0,
		 0,
		 0,
		 0,
		 0,
		 0,
		 0,
		 0,
		 0,
		 0,
		 0,
		 0,
		 0,
		 0,
		 0,
		 0,
		 0,
		 0,
		 0,
		 0,
		 0,
		 0,
		 0,
		 0,
		 0,
		 0,
		 0,
		 0,
		 0,
		 0,
		 0,
		 0,
		 0,
		 0,
		 0,
		 0,
		 0,
		 0,
		 0,
		 0,
		 0,
		 0,
		 0,
		 0,
		 0,
		 0,
		 0,
		 0,
		 0,
		 0,
		 0,
		 0,
		 0,
		 0,
		 0,
		 0,
		 0,
		 0,
		 0,
		 0,
		 0,
		 0,
		 0,
		 0,
		 0,
		 0,
		 0,
		 0,
		 0,
		 0,
		 0,
		 0,
		 0,
		 0,
		 0,
		 0,
		 0,
		 0,
		 0,
		 0,
		 0,
		 0,
		 0,
		 0,
		 0,
		 0,
		 0,
		 0,
		 0,
		 0,
		 0,
		 0,
		 0,
		 0,
		 0,
		 0,
		 0,
		 0,
		 0,
		 0,
		 0,
		 ...]

Célula de código <_e00Qy4oqJYj>
#%% [code]
2**(-1024)
Saída da execução a partir de 10 de jan. de 2023 17:00
0KB
	text/plain
		5.562684646268003e-309

Célula de código <Kcw09GTW_p2J>
#%% [code]
def conversor_numerico_real(numero, base_numerica):
  if base_numerica == 'B':  # Decimal para binário.
    if sinal_negativo_decimal(numero):
      bit = 1
    else:
      bit = 0
    # print('bit', bit)

    numero = abs(float(numero))
    if numero < 2**(-1024):
      return "Underflow: o número não pode ser representado em ponto flutuante de 64 bits"
    
    if numero > 2**1024:
      return "Overflow: o número não pode ser representado em ponto flutuante de 64 bits"

    parte_decimal_binario = parte_decimal_em_binario(numero % 1)
    # print("parte_decimal_binario", parte_decimal_binario)  # Debug
    parte_inteira_binario = [int(n) for n in 
                             str(convertendo_inteiro_para_binario(int(numero)))
                             ]
    # print("parte_inteira_binario", parte_inteira_binario)  # Debug
    mantissa = parte_inteira_binario + parte_decimal_binario
    # print('mantissa   ', mantissa)  # Debug


    # Ajustando mantissa para que o primeiro dígito seja 1.
    while mantissa[0] == 0:
      mantissa.pop(0)
      mantissa = mantissa + [0]
      # print('mantissapop', mantissa)  # Debug
    mantissa = mantissa[:52]
    # print('expoente_binario', expoente_binario)

    
    # Expoente
    if parte_inteira_binario == [0]:
      '''Se a parte inteira for nula, procuro o dígito significativo na 
      parte decimal da esquerda para direita.'''
      index = 0
      expoente = -1
      while parte_decimal_binario[index] == 0:
        expoente -= 1
        index += 1
      # print('expoente', expoente)
    else:
      '''O primeiro dígito é sempre 1, logo, procuro a extensão. 
      Mas é preciso deixar o expoente com comprimento 8.'''
      # print('parte_inteira_binario', parte_inteira_binario)  # Debug
      expoente = len(parte_inteira_binario) -1
      # print('expoente', expoente)  # Debug
    expoente_binario = [int(n) for n in str(convertendo_inteiro_para_binario(
                          expoente + 1024
                        ))]
    # print('expoente_binario', expoente_binario)
    if expoente < 0:
      #print('expoente', expoente)
      while len(expoente_binario) < 11:
        expoente_binario = [0] + expoente_binario

    # Enfim, devolvendo o número.
    b = str(bit)
    ex = ''
    for i in expoente_binario:
      ex += str(i)
    # print('ex', ex)
    if int(ex) >= 100000000000:
      ex =   '11111111111'
    m = ''
    for i in mantissa:
      m += str(i)
    return "{0} {1} {2}".format(b, ex, m)
  
  elif base_numerica == 'D':  # Binário para decimal.
    if numero[12] != '1':
      # print(numero[12])
      return f"A mantissa deve sempre começar com 1 em ponto flutuante. Está escrito {numero[12]}."

    eh_negativo: bool = sinal_negativo_binario(numero)
    # print('numero[1:12]', numero[1:12])
    expoente = conversor_numerico_inteiro('000000000000000000000' + numero[1:12], 'D') + 1 - 2**10
    # print('expoente:',expoente)
    parte_fracionaria_binaria = [int(n) for n in numero[12:]]  # Por enquanto toda mantissa.
    #print('numero[12:]', numero[12:])
    parte_inteira_binaria = []
    parte_fracionaria_binaria 
    while expoente != 0:
      if expoente > 0:
        parte_inteira_binaria.append(parte_fracionaria_binaria[0])
        #print('parte_inteira_binaria:', parte_inteira_binaria)
        parte_fracionaria_binaria.pop(0)
        #print('parte_fracionaria_binaria', parte_fracionaria_binaria)
        if not parte_fracionaria_binaria:
          parte_fracionaria_binaria.append(0)
        expoente -= 1
      elif expoente < 0:
        parte_fracionaria_binaria = [0] + parte_fracionaria_binaria
        #print('parte_fracionaria_binaria', parte_fracionaria_binaria)
        expoente += 1
    
    expoente_base_2_inteiro = 0
    parte_inteira_binaria.reverse()
    parte_inteira_decimal = 0
    for n in parte_inteira_binaria:
      parte_inteira_decimal += n * 2 ** expoente_base_2_inteiro
      expoente_base_2_inteiro += 1
    
    expoente_base_2_fracionario = -1
    parte_fracionaria_decimal = 0
    for n in parte_fracionaria_binaria:
      parte_fracionaria_decimal += n * 2 ** expoente_base_2_fracionario
      expoente_base_2_fracionario -= 1
    
    if eh_negativo:
      return -abs(parte_inteira_decimal + parte_fracionaria_decimal)
    else:
      return parte_inteira_decimal + parte_fracionaria_decimal



# conversor_numerico_real('11111111110001000110000000000000', 'D')
# conversor_numerico_real('-17.09375', 'B')

# conversor_numerico_real('0.1', 'B')
# conversor_numerico_real('00111110011001100110011001100110', 'D')

# conversor_numerico_real('0.015625', 'B')
# conversor_numerico_real('0011111110101000000000000000000000000000000000000000000000000000', 'D')

# '%0.400f' % conversor_numerico_real('0000010111101000000000000000000000000000000000000000000000000000', 'D')
# conversor_numerico_real(
#     '0.0000000000000000000000000000000000000000000000000000000000000000000000000000000000000000000000000000000000000000000000000000000000000000000000000000000000000000000000000000000000000000000000000000000000000000000000000000000000000000000000000000000000000000000000000000000000000001101803207925311020550086719466398033920845188111785964484478069137975413941702992858601691565157947409819860578100188404',
#     'B')

# '%0.400f' % conversor_numerico_real('0000000000001000000000000000000000000000000000000000000000000001', 'D')
# conversor_numerico_real(
#    '0.0000000000000000000000000000000000000000000000000000000000000000000000000000000000000000000000000000000000000000000000000000000000000000000000000000000000000000000000000000000000000000000000000000000000000000000000000000000000000000000000000000000000000000000000000000000000000000000000000000000000000000000056626846462680034577255817933310101605480399511558295763833185422180110870347954896357078975',
#    'B')

# conversor_numerico_real('1.125', 'B')
# conversor_numerico_real('0100000000001001000000000000000000000000000000000000000000000000', 'D')


# conversor_numerico_real('1', 'B')
# conversor_numerico_real('0100000000001000000000000000000000000000000000000000000000000000', 'D')

# conversor_numerico_real('0000000000011000000000000000000000000000000000000000000000000001', 'D')
# conversor_numerico_real(
#    '0.00000000000000000000000000000000000000000000000000000000000000000000000000000000000000000000000000000000000000000000000000000000000000000000000000000000000000000000000000000000000000000000000000000000000000000000000000000000000000000000000000000000000000000000000000000000000000000000000000000000000000000001112536929253601185610762199912746208678400858452538280336466322768366642992641598602648849715007375581870031501510285299140912526494460981084716548628655809340185007547879291540518264032696346',
#    'B')

# Maior valor possível
# conversor_numerico_real(
#     '179769313486231550856124328384506240234343437157459335924404872448581845754556114388470639943126220321960804027157371570809852884964511743044087662767600909594331927728237078876188760579532563768698654064825262115771015791463983014857704008123419459386245141723703148097529108423358883457665451722744025579520.0',
#     'B')


conversor_numerico_real('36893488147419086848',
                        'B')
Saída da execução a partir de 10 de jan. de 2023 17:25
0KB
	text/plain
		'0 10001000000 1111111111111111111111111111111111111111111111111110'

Célula de código <PsY3PDmpbbP->
#%% [code]
len('100000000000')
Saída da execução a partir de 10 de jan. de 2023 17:23
0KB
	text/plain
		12

Célula de código <ua-_Kwwrdozb>
#%% [code]
print('%0.500f' % 1.112536929253601e-308)
print('%0.1f' % 1.7976931348623155e+308)
print('%0.500f' % 2**(-1023))
Saída da execução a partir de 10 de jan. de 2023 17:00
1KB
	Stream
		0.00000000000000000000000000000000000000000000000000000000000000000000000000000000000000000000000000000000000000000000000000000000000000000000000000000000000000000000000000000000000000000000000000000000000000000000000000000000000000000000000000000000000000000000000000000000000000000000000000000000000000000001112536929253601185610762199912746208678400858452538280336466322768366642992641598602648849715007375581870031501510285299140912526494460981084716548628655809340185007547879291540518264032696346
		179769313486231550856124328384506240234343437157459335924404872448581845754556114388470639943126220321960804027157371570809852884964511743044087662767600909594331927728237078876188760579532563768698654064825262115771015791463983014857704008123419459386245141723703148097529108423358883457665451722744025579520.0
		0.00000000000000000000000000000000000000000000000000000000000000000000000000000000000000000000000000000000000000000000000000000000000000000000000000000000000000000000000000000000000000000000000000000000000000000000000000000000000000000000000000000000000000000000000000000000000000000000000000000000000000000001112536929253600691545116358666202032109607990231165915276663708443602217406959097927141579506255510282033669865517905502576217080776730054428006192688859410565388996766001165239805073721291818

Célula de código <dVZgTQeiqY3G>
#%% [code]
class Numero:
  def __init__(self, numero_em_leitura, base_numerica):

    self.numero_em_leitura = numero_em_leitura

    numero_em_leitura = numero_em_leitura.replace(' ','')
    eh_inteiro = float(numero_em_leitura)
    extensao = len(numero_em_leitura)
    base_numerica = base_numerica.upper()
    # print('numero_em_leitura', numero_em_leitura)
    # print('eh_inteiro', eh_inteiro)
    # print('extensao', extensao)
    if eh_inteiro % 1 == 0 and extensao != 64 and abs(int(float(numero_em_leitura))) < 2**31:  # NÚMERO INTEIRO
      # print('NÚMERO INTEIRO')
      if numero_em_leitura == '0000000000000000000000000000000000000000000000000000000000000000': 
        self.conversao =  0
      if numero_em_leitura == '00000000000000000000000000000000':
        self.conversao =   0
      if not eh_inteiro and base_numerica == "B":  # Caso for 0.
        self.conversao = '00000000000000000000000000000000'
      
      print('numero_em_leitura', numero_em_leitura)
      numero_binario: int = conversor_numerico_inteiro(numero_em_leitura, 
                                                       base_numerica)
      # print(numero_binario)
      self.conversao =   numero_binario
    else:  # NÚMERO REAL
      # print('NÚMERO REAL')
      numero_binario_real = conversor_numerico_real(numero_em_leitura, 
                                                    base_numerica)
      # print('numero_binario_real', numero_binario_real)
      self.conversao =   numero_binario_real

  def __str__(self):
    return f"convertido: {self.conversao} \ndigitado: {self.numero_em_leitura}"

  @property
  def convertido(self):
    return self.conversao
  
  @property
  def digitado(self):
    return self.numero_em_leitura


um_decimo = Numero('0.1', 'b')
print(um_decimo)
um_decimo.convertido
Saída da execução a partir de 10 de jan. de 2023 17:26
0KB
	Stream
		convertido: 0 01111111100 1100110011001100110011001100110011001100110011001101 
		digitado: 0.1
	text/plain
		'0 01111111100 1100110011001100110011001100110011001100110011001101'

Célula de código <GGoqMhcyGqtR>
#%% [code]
um_decimo.digitado
Saída da execução a partir de 10 de jan. de 2023 17:26
0KB
	text/plain
		'0.1'

Célula de código <gVHXi-WDG6ex>
#%% [code]
len('0 11111111111 1111111111111111111111111111111111111111111111111111')
Saída da execução a partir de 10 de jan. de 2023 17:26
0KB
	text/plain
		66

Célula de código <9WdI4Pqr8GZa>
#%% [code]
nove_negativo = Numero('1000000000001001', 'd')
print(nove_negativo)
nove_negativo.digitado
Saída da execução a partir de 10 de jan. de 2023 17:26
0KB
	Stream
		convertido: -6.258020227051504e-309 
		digitado: 1000000000001001
	text/plain
		'1000000000001001'

Célula de código <hwQpeXBtDkr->
#%% [code]
cinco = Numero('-5', "b")
print(cinco)
cinco.digitado
Saída da execução a partir de 10 de jan. de 2023 17:26
0KB
	Stream
		numero_em_leitura -5
		convertido: 10000000000000000000000000000101 
		digitado: -5
	text/plain
		'-5'

Célula de código <uoOf3LizHM8g>
#%% [code]
minusculo = Numero('0 00000000000 1000000000000000000000000000000000000000000000000000', 'D')
print(minusculo)
minusculo.convertido
Saída da execução a partir de 10 de jan. de 2023 17:26
0KB
	Stream
		convertido: 5.562684646268003e-309 
		digitado: 0 00000000000 1000000000000000000000000000000000000000000000000000
	text/plain
		5.562684646268003e-309

Célula de código <1CrKyPZzjaU5>
#%% [code]
maximo_inteiro = Numero('0111111111111111', 'D')
print(maximo_inteiro)
Saída da execução a partir de 10 de jan. de 2023 17:26
0KB
	Stream
		convertido: 1.6853373139334212e+308 
		digitado: 0111111111111111

Célula de código <QsR_kayfDXwH>
#%% [code]
n_32767 = Numero('32767', 'B')
print(n_32767)
Saída da execução a partir de 10 de jan. de 2023 17:26
0KB
	Stream
		numero_em_leitura 32767
		convertido: 00000000000000000111111111111111 
		digitado: 32767

Célula de código <E2w7Oy0kxInv>
#%% [code]
maximo_possivel = Numero('0 11111111111 1111111111111111111111111111111111111111111111111111', 'D')
print(maximo_possivel)
'%f' % (maximo_possivel.convertido)
Saída da execução a partir de 10 de jan. de 2023 17:26
1KB
	Stream
		convertido: 1.7976931348623155e+308 
		digitado: 0 11111111111 1111111111111111111111111111111111111111111111111111
	text/plain
		'179769313486231550856124328384506240234343437157459335924404872448581845754556114388470639943126220321960804027157371570809852884964511743044087662767600909594331927728237078876188760579532563768698654064825262115771015791463983014857704008123419459386245141723703148097529108423358883457665451722744025579520.000000'

Célula de código <faVrrUfWUdP9>
#%% [code]
desconhecido_grande = Numero('0 11111111111 1000000000000000000000000000000000000000000000000000', 'D')
print(desconhecido_grande)
'%0.40f' % (desconhecido_grande.convertido)
Saída da execução a partir de 10 de jan. de 2023 17:26
1KB
	Stream
		convertido: 8.98846567431158e+307 
		digitado: 0 11111111111 1000000000000000000000000000000000000000000000000000
	text/plain
		'89884656743115795386465259539451236680898848947115328636715040578866337902750481566354238661203768010560056939935696678829394884407208311246423715319737062188883946712432742638151109800623047059726541476042502884419075341171231440736956555270413618581675255342293149119973622969239858152417678164812112068608.0000000000000000000000000000000000000000'

Célula de código <KToHQ1sAU8uL>
#%% [code]
desconhecido_grande_2 = Numero('0 11111111110 1111111111111111111111111111111111111111111111111111', 'D')
print(desconhecido_grande_2)
'%0.40f' % (desconhecido_grande_2.convertido)
Saída da execução a partir de 10 de jan. de 2023 17:26
1KB
	Stream
		convertido: 8.988465674311578e+307 
		digitado: 0 11111111110 1111111111111111111111111111111111111111111111111111
	text/plain
		'89884656743115775428062164192253120117171718578729667962202436224290922877278057194235319971563110160980402013578685785404926442482255871522043831383800454797165963864118539438094380289766281884349327032412631057885507895731991507428852004061709729693122570861851574048764554211679441728832725861372012789760.0000000000000000000000000000000000000000'

Célula de código <vIqYGcGlV5xO>
#%% [code]
desconhecido_grande_3 = Numero(
    '179769313486231550856124328384506240234343437157459335924404872448581845754556114388470639943126220321960804027157371570809852884964511743044087662767600909594331927728237078876188760579532563768698654064825262115771015791463983014857704008123419459386245141723703148097529108423358883457665451722744025579520.000000',
    'B')
print(desconhecido_grande_3)
"{:e}".format(float(desconhecido_grande_3.digitado))
Saída da execução a partir de 10 de jan. de 2023 17:26
1KB
	Stream
		convertido: 0 11111111111 1111111111111111111111111111111111111111111111111111 
		digitado: 179769313486231550856124328384506240234343437157459335924404872448581845754556114388470639943126220321960804027157371570809852884964511743044087662767600909594331927728237078876188760579532563768698654064825262115771015791463983014857704008123419459386245141723703148097529108423358883457665451722744025579520.000000
	text/plain
		'1.797693e+308'

Célula de código <Z7UK9fPVYfIK>
#%% [code]
desconhecido_grande_5 = Numero('0 11111111111 1111111111111111111111111111111111111111111111111110', 'D')
print(desconhecido_grande_5)
'%0.40f' % (desconhecido_grande_5.convertido)
Saída da execução a partir de 10 de jan. de 2023 17:26
1KB
	Stream
		convertido: 1.7976931348623151e+308 
		digitado: 0 11111111111 1111111111111111111111111111111111111111111111111110
	text/plain
		'179769313486231510939318137690110007106889176420688014575379663739431015703611265644232802563844904622801494174443349783960916001114606863595327894895727694810895962031608672476075301557819033417944225177565518462703880900585503148241494905706011681609139772762819997955110970908238050610495547115863827021824.0000000000000000000000000000000000000000'

Célula de código <wa6ySRdvYI3z>
#%% [code]
desconhecido_grande_6_valor = str(maximo_possivel.convertido - desconhecido_grande_5.convertido)

desconhecido_grande_6 = Numero(desconhecido_grande_6_valor, 'B')
print(desconhecido_grande_6)
Saída da execução a partir de 10 de jan. de 2023 17:28
0KB
	Stream
		convertido: 0 11111001100 1000000000000000000000000000000000000000000000000000 
		digitado: 3.99168061906944e+292

Célula de código <J_lYCsmVXjMy>
#%% [code]
desconhecido_grande_6_inverso = Numero('0 11111001100 1000000000000000000000000000000000000000000000000000', 'D')
print(desconhecido_grande_6_inverso)
Saída da execução a partir de 10 de jan. de 2023 17:28
0KB
	Stream
		convertido: 3.99168061906944e+292 
		digitado: 0 11111001100 1000000000000000000000000000000000000000000000000000

Célula de código <c-E70qDYacRp>
#%% [code]
desconhecido_grande_5_outro_valor = str(maximo_possivel.convertido - desconhecido_grande_6_inverso.convertido)

desconhecido_grande_5_outro = Numero(desconhecido_grande_5_outro_valor, 'B')
print(desconhecido_grande_5_outro)
Saída da execução a partir de 10 de jan. de 2023 17:41
0KB
	Stream
		convertido: 0 11111111111 1111111111111111111111111111111111111111111111111110 
		digitado: 1.7976931348623151e+308

Célula de código <8zLegIhbVKrc>
#%% [code]
print(maximo_possivel.convertido - desconhecido_grande_5.convertido)
'%0.1f' % (maximo_possivel.convertido - desconhecido_grande_5.convertido)
Saída da execução a partir de 10 de jan. de 2023 17:26
1KB
	Stream
		3.99168061906944e+292
	text/plain
		'39916806190694396233127454260736771321349025208709150830050944848744237837379281315699159309852714021786848936883849904879448759767871873214783435965696628406400113459021713530350754428887259743653067134890878479866616209102417407777777105368960883150142418137515120832847169904606880198557696.0'

Célula de código <IZOl8AInTJkG>
#%% [code]
'%0.2f' % (3.99168061906944e+292)
Saída da execução a partir de 10 de jan. de 2023 17:26
0KB
	text/plain
		'39916806190694396233127454260736771321349025208709150830050944848744237837379281315699159309852714021786848936883849904879448759767871873214783435965696628406400113459021713530350754428887259743653067134890878479866616209102417407777777105368960883150142418137515120832847169904606880198557696.00'

Célula de código <x0YhoRPGSkFo>
#%% [code]
desconhecido_grande_7 = Numero(
    '39916806190694396233127454260736771321349025208709150830050944848744237837379281315699159309852714021786848936883849904879448759767871873214783435965696628406400113459021713530350754428887259743653067134890878479866616209102417407777777105368960883150142418137515120832847169904606880198557696.00', 
    'B')
print(desconhecido_grande_7)
# '%0.2f' % (desconhecido_grande_7.convertido)
Saída da execução a partir de 10 de jan. de 2023 17:26
0KB
	Stream
		convertido: 0 11111001100 1000000000000000000000000000000000000000000000000000 
		digitado: 39916806190694396233127454260736771321349025208709150830050944848744237837379281315699159309852714021786848936883849904879448759767871873214783435965696628406400113459021713530350754428887259743653067134890878479866616209102417407777777105368960883150142418137515120832847169904606880198557696.00

Célula de código <90m-U8zwTYvW>
#%% [code]
desconhecido_grande_8 = Numero('0 10000100000 1111111111111111111111111111111111111111111111111110', 'D')
print(desconhecido_grande_8)
'%0.90f' % (desconhecido_grande_8.convertido)
Saída da execução a partir de 10 de jan. de 2023 17:30
0KB
	Stream
		convertido: 8589934591.999996 
		digitado: 0 10000100000 1111111111111111111111111111111111111111111111111110
	text/plain
		'8589934591.999996185302734375000000000000000000000000000000000000000000000000000000000000000000000000'

Célula de código <herYnlMjUNhR>
#%% [code]
desconhecido_grande_8 = Numero('8589934591.999996185302734375000000000000000000000000000000000000000000000000000000000000000000000000', 'B')
print(desconhecido_grande_8)
Saída da execução a partir de 10 de jan. de 2023 17:31
0KB
	Stream
		convertido: 0 10000100000 1111111111111111111111111111111111111111111111111110 
		digitado: 8589934591.999996185302734375000000000000000000000000000000000000000000000000000000000000000000000000

Célula de código <UciYFaO4ThEi>
#%% [code]
len('10000000000')
Saída da execução a partir de 10 de jan. de 2023 17:26
0KB
	text/plain
		11
