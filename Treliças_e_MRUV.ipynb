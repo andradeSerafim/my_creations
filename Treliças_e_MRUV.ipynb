{
  "cells": [
    {
      "cell_type": "markdown",
      "metadata": {
        "id": "view-in-github",
        "colab_type": "text"
      },
      "source": [
        "<a href=\"https://colab.research.google.com/github/andradeSerafim/my_creations/blob/main/Treli%C3%A7as_e_MRUV.ipynb\" target=\"_parent\"><img src=\"https://colab.research.google.com/assets/colab-badge.svg\" alt=\"Open In Colab\"/></a>"
      ]
    },
    {
      "cell_type": "markdown",
      "source": [
        "Sistema global de equação"
      ],
      "metadata": {
        "id": "a8XG3yoJqd6r"
      }
    },
    {
      "cell_type": "code",
      "execution_count": null,
      "metadata": {
        "id": "_prlP5_02ZzW",
        "colab": {
          "base_uri": "https://localhost:8080/"
        },
        "outputId": "c260ebf1-1c23-4361-f175-7d2cb90b5f09"
      },
      "outputs": [
        {
          "output_type": "execute_result",
          "data": {
            "text/plain": [
              "[0.20203050891027205, 0.0, 0.0]"
            ]
          },
          "metadata": {},
          "execution_count": 10
        }
      ],
      "source": [
        "def inicial(matriz, n) -> list:\n",
        "  x: list = []\n",
        "  for i in range(n):\n",
        "    #print(i, matriz[i][-1], matriz[i][i])  # Debug\n",
        "    x.append(matriz[i][-1] / matriz[i][i])\n",
        "    #print(x)  # Debug\n",
        "  return x\n",
        "\n",
        "# inicial([[10,2,1,7],[1,5,1,-8],[2,3,10,6]], 3)\n",
        "# nao_satisfaz_criterio_de_linhas([[1,3,1,-2],[5,2,2,3],[0,6,8,-6]],3)\n",
        "inicial([[4949.74746831, -4949.74746831, -4949.74746831, 1000],\n",
        "         [-4949.74746831, 18949.7474683, 4949.74746831, 0],\n",
        "         [-4949.74746831, 4949.74746831, 18949.7474683, 0]], 3)"
      ]
    },
    {
      "cell_type": "code",
      "execution_count": null,
      "metadata": {
        "id": "acSlO9UD80Zn",
        "colab": {
          "base_uri": "https://localhost:8080/"
        },
        "outputId": "61fe4458-78da-4b05-c833-2cd571a17bf1"
      },
      "outputs": [
        {
          "output_type": "execute_result",
          "data": {
            "text/plain": [
              "False"
            ]
          },
          "metadata": {},
          "execution_count": 5
        }
      ],
      "source": [
        "def iteracao_para_terminar(x, novo_x, epsilon) -> bool:\n",
        "  maior: int = 0\n",
        "  novo_maior: int = 0\n",
        "  for k in range(len(x)):\n",
        "    maior = max(maior, abs(novo_x[k] - x[k]))\n",
        "    novo_maior = max(novo_maior, abs(novo_x[k]))\n",
        "    # print('novo_maior (em iteracao_para_terminar)', novo_maior)  # Debug\n",
        "    # print('maior', maior)  # Debug\n",
        "    # print('maior / novo_maior', maior / novo_maior)  # Debug\n",
        "  return maior / novo_maior < epsilon\n",
        "\n",
        "iteracao_para_terminar([3.0, 1.5], [1.450927734375, 12], 0.1)"
      ]
    },
    {
      "cell_type": "code",
      "execution_count": null,
      "metadata": {
        "id": "9oJgrZcjcbNm",
        "colab": {
          "base_uri": "https://localhost:8080/"
        },
        "outputId": "307a45ef-6e3a-4d98-ecf8-e1485037e06f"
      },
      "outputs": [
        {
          "output_type": "execute_result",
          "data": {
            "text/plain": [
              "True"
            ]
          },
          "metadata": {},
          "execution_count": 6
        }
      ],
      "source": [
        "def nao_satisfaz_criterio_de_linhas(matriz, n) -> bool:\n",
        "  for i in range(n):\n",
        "    numerador: int = 0\n",
        "    for j in range(n):\n",
        "      if i != j:\n",
        "        numerador += abs(matriz[i][j])\n",
        "        # print('no numerador', matriz[i][j], i, j)\n",
        "      else:\n",
        "        denominador = abs(matriz[i][j])\n",
        "        # print('no denominador', matriz[i][j], i, j)\n",
        "    alfa = numerador/denominador \n",
        "    # print('alfa', alfa)\n",
        "    if alfa > 1:\n",
        "      return True\n",
        "  return False\n",
        "\n",
        "# nao_satisfaz_criterio_de_linhas([[10,2,1,7],[1,5,1,-8],[2,3,10,6]],3)\n",
        "# nao_satisfaz_criterio_de_linhas([[1,3,1,-2],[5,2,2,3],[0,6,8,-6]],3)\n",
        "nao_satisfaz_criterio_de_linhas([[4949.74746831, -4949.74746831, -4949.74746831, 1000],\n",
        "                                 [-4949.74746831, 18949.7474683, 4949.74746831, 0],\n",
        "                                 [-4949.74746831, 4949.74746831, 18949.7474683, 0]], 3)"
      ]
    },
    {
      "cell_type": "code",
      "execution_count": null,
      "metadata": {
        "id": "PPQEegctxJyl",
        "colab": {
          "base_uri": "https://localhost:8080/"
        },
        "outputId": "797253b4-9451-470a-85aa-758b0bda0839"
      },
      "outputs": [
        {
          "output_type": "stream",
          "name": "stdout",
          "text": [
            "Não satisfaz o critério de linhas para o método de Gauss Jacobi.\n",
            "Fim de Gauss_Jacobi\n"
          ]
        },
        {
          "output_type": "execute_result",
          "data": {
            "text/plain": [
              "[0.34488916467817976, 0.07142791703084986, 0.07142791703084986]"
            ]
          },
          "metadata": {},
          "execution_count": 7
        }
      ],
      "source": [
        "def gauss_jacobi(matriz, n, epsilon) -> list:\n",
        "  mostrar_resultado: bool = True\n",
        "  parada: bool = 0\n",
        "  for v in matriz:\n",
        "    for v2 in v:\n",
        "      parada += abs(v2)\n",
        "  # print(\"parada\", abs(parada))  # Debug\n",
        "  if nao_satisfaz_criterio_de_linhas(matriz, n):\n",
        "    print(\"Não satisfaz o critério de linhas para o método de Gauss Jacobi.\")\n",
        "  x: list = inicial(matriz, n)\n",
        "  # print(\"x (no começo:)\", x)  # Debug\n",
        "  # print()  # Debug\n",
        "  novo_x = []\n",
        "  for l in range(len(x)):\n",
        "    novo_x.append(0)\n",
        "  it = 0\n",
        "  terminando: bool = False\n",
        "  while not terminando:\n",
        "    it += 1\n",
        "    for i in range(n):\n",
        "      novo_x[i] = matriz[i][-1]  \n",
        "      # print('novo_x {} (em {})'.format(novo_x, i))  # Debug\n",
        "      for j in range(n):\n",
        "        if i != j:\n",
        "          novo_x[i] -= matriz[i][j] * x[j] \n",
        "        # print('novo_x[i]', novo_x[i])  # Debug\n",
        "      novo_x[i] /= matriz[i][i]\n",
        "      if novo_x[i] > abs(parada):  # Evitando que fique um loop infinito.\n",
        "        mostrar_resultado = False\n",
        "        # print('erro')  # Debug\n",
        "        break\n",
        "    terminando = iteracao_para_terminar(x, novo_x, epsilon)\n",
        "    # print('terminando', terminando)\n",
        "    for l in range(len(x)):\n",
        "      #print(l)  # Debug\n",
        "      x[l] = novo_x[l]\n",
        "    # print('x (depois)',x)  # Debug\n",
        "    # print()  # Debug\n",
        "  print('Fim de Gauss_Jacobi')\n",
        "  if mostrar_resultado:\n",
        "    return x\n",
        "  else:\n",
        "    print('Não foi possível encontrar solução pelo método de Gauss Jacobi.')\n",
        "\n",
        "\n",
        "# gauss_jacobi([[2,1,6],[4,8,12]], 2, 0.01)\n",
        "# gauss_jacobi([[1,1,3],[1,-3,-3]], 2, 0.01)\n",
        "# gauss_jacobi([[1,-3,-3],[1,1,3]], 2, 0.01)\n",
        "# gauss_jacobi([[10,2,1,7],[1,5,1,-8],[2,3,10,6]], 3, 0.05)\n",
        "# gauss_jacobi([[4,5,67],[2,1,3,5],[6,1,9,8]], 3, 0.05)\n",
        "# gauss_jacobi([[1,3,1,-2],[5,2,2,3],[0,6,8,-6]], 3, 0.01)\n",
        "# gauss_jacobi([[5,2,2,3],[1,3,1,-2],[0,6,8,-6]], 3, 0.0001)\n",
        "gauss_jacobi([[4949.74746831, -4949.74746831, -4949.74746831, 1000],\n",
        "              [-4949.74746831, 18949.7474683, 4949.74746831, 0],\n",
        "              [-4949.74746831, 4949.74746831, 18949.7474683, 0]], 3, 0.00001)\n",
        "# gauss_jacobi([[1,5,6,8],[6,2,4,4],[3,9,6,5]],3,0.01)\n",
        "# gauss_jacobi([[5,1,1,5],[3,4,1,6],[3,3,6,0]], 3, 0.01)\n",
        "# gauss_jacobi([[1,0.5,-0.1,0.1,0.2],[0.2,1,-0.2,-0.1,-2.6],\n",
        "#               [-0.1,-0.2,1,-0.2,1],[0.1,0.3,0.2,1,-2.5]], 4, 0.0001)\n",
        "# gauss_jacobi([[3,0,1,3],[1,-1,0,1],[3,1,2,9]], 3, 0.00001)\n",
        "# gauss_jacobi([[-8,1,1,1],[1,-5,1,16],[1,1,-4,7]], 3, 0.0001)"
      ]
    },
    {
      "cell_type": "code",
      "execution_count": null,
      "metadata": {
        "id": "Vehf54Mkvtd4",
        "colab": {
          "base_uri": "https://localhost:8080/"
        },
        "outputId": "6d003f66-c1aa-45c0-9889-fe55fc1118f5"
      },
      "outputs": [
        {
          "output_type": "stream",
          "name": "stdout",
          "text": [
            "Dimensão do sistema linear:3\n",
            "Critério de erro mínimo:0.05\n",
            "4949.74746831 -4949.74746831 -4949.74746831 1000\n",
            "-4949.74746831 18949.7474683 4949.74746831 0\n",
            "-4949.74746831 4949.74746831 18949.7474683 0\n",
            "Não satisfaz o critério de linhas para o método de Gauss Jacobi.\n",
            "Fim de Gauss_Jacobi\n"
          ]
        },
        {
          "output_type": "execute_result",
          "data": {
            "text/plain": [
              "[0.33635848518427935, 0.07459895750010392, 0.07459895750010392]"
            ]
          },
          "metadata": {},
          "execution_count": 13
        }
      ],
      "source": [
        "n =int(input('Dimensão do sistema linear:'))\n",
        "epsilon = float(input('Critério de erro mínimo:'))\n",
        "\n",
        "matriz = []\n",
        "for i in range(n):\n",
        "  criando_linha = input().split()\n",
        "  for cada_numero in range(len(criando_linha)):\n",
        "    #print(cada_numero)  # Debug\n",
        "    #print(type(cada_numero))  # Debug\n",
        "    criando_linha[cada_numero] = float(criando_linha[cada_numero])\n",
        "  #print(criando_linha)  # Debug\n",
        "  matriz.append(criando_linha)\n",
        "\n",
        "\n",
        "# matriz = criando_matriz(n)\n",
        "gauss_jacobi(matriz, n, epsilon)"
      ]
    },
    {
      "cell_type": "markdown",
      "source": [
        "Movimento retilíneo uniformemente variado"
      ],
      "metadata": {
        "id": "WJkJJOTBFpwb"
      }
    },
    {
      "cell_type": "code",
      "source": [
        "import matplotlib.pyplot as plt\n",
        "import numpy as np\n",
        "from typing import Tuple"
      ],
      "metadata": {
        "id": "gbbqeP7BFoen"
      },
      "execution_count": null,
      "outputs": []
    },
    {
      "cell_type": "code",
      "source": [
        "def mruv(aceleracao, velocidade, inicio, tempo) -> list:\n",
        "  final = inicio + velocidade * tempo + 0.5 * aceleracao * tempo ** 2\n",
        "  return final\n",
        "\n",
        "\n",
        "# print(np.arange(0, 2, 0.1))\n",
        "mruv(100, -9, 0, np.arange(0, 20))"
      ],
      "metadata": {
        "id": "CTfIENF1FsZp",
        "colab": {
          "base_uri": "https://localhost:8080/"
        },
        "outputId": "7281c52f-db08-4ace-b982-0c14695a11bc"
      },
      "execution_count": null,
      "outputs": [
        {
          "output_type": "execute_result",
          "data": {
            "text/plain": [
              "array([    0.,    41.,   182.,   423.,   764.,  1205.,  1746.,  2387.,\n",
              "        3128.,  3969.,  4910.,  5951.,  7092.,  8333.,  9674., 11115.,\n",
              "       12656., 14297., 16038., 17879.])"
            ]
          },
          "metadata": {},
          "execution_count": 2
        }
      ]
    },
    {
      "cell_type": "code",
      "source": [
        "def velocidade_momentanea(aceleracao, velocidade, tempo) -> list:\n",
        "  velocidade_nesse_momento = velocidade + aceleracao * tempo\n",
        "  return velocidade_nesse_momento\n",
        "\n",
        "\n",
        "velocidade_momentanea(-5, 2, np.arange(0, 20))"
      ],
      "metadata": {
        "id": "UM35tnT1qJHa",
        "colab": {
          "base_uri": "https://localhost:8080/"
        },
        "outputId": "f4061ba8-7893-4d78-eb2d-ff09f7c5065b"
      },
      "execution_count": null,
      "outputs": [
        {
          "output_type": "execute_result",
          "data": {
            "text/plain": [
              "array([  2,  -3,  -8, -13, -18, -23, -28, -33, -38, -43, -48, -53, -58,\n",
              "       -63, -68, -73, -78, -83, -88, -93])"
            ]
          },
          "metadata": {},
          "execution_count": 3
        }
      ]
    },
    {
      "cell_type": "code",
      "source": [
        "def limite_de_iteracoes(aceleracao, velocidade, inicio) -> int:\n",
        "  if abs(aceleracao) < 1 and aceleracao != 0:\n",
        "    aceleracao = 1 / aceleracao\n",
        "  if abs(velocidade) < 1 and velocidade != 0:\n",
        "    velocidade = 1 / velocidade\n",
        "  limite_de_iteracao = int(abs(10 * aceleracao * velocidade + abs(inicio)))\n",
        "  return limite_de_iteracao\n",
        "\n",
        "\n",
        "limite_de_iteracoes(-100, -9, 0)"
      ],
      "metadata": {
        "id": "RRuTSF3FgVIB",
        "colab": {
          "base_uri": "https://localhost:8080/"
        },
        "outputId": "33e52b4e-76a0-43c4-c6af-7c4198fcca99"
      },
      "execution_count": null,
      "outputs": [
        {
          "output_type": "execute_result",
          "data": {
            "text/plain": [
              "9000"
            ]
          },
          "metadata": {},
          "execution_count": 4
        }
      ]
    },
    {
      "cell_type": "code",
      "source": [
        "Vector = Tuple[list, list, bool]\n",
        "\n",
        "\n",
        "def intervalo_da_raiz(aceleracao, velocidade, inicio) -> Vector:\n",
        "  lista_de_resultados = []\n",
        "  limite_de_iteracao = limite_de_iteracoes(aceleracao, velocidade, inicio)\n",
        "  # print('limite_de_iteracao', limite_de_iteracao)  # Debug\n",
        "\n",
        "  i = 0\n",
        "  procura_de_sinal_oposto = True\n",
        "  while procura_de_sinal_oposto:\n",
        "    lista_de_resultados.append(mruv(aceleracao, velocidade, inicio, i))\n",
        "    # print(i, lista_de_resultados)  # Debug\n",
        "    if i > 0:\n",
        "      if lista_de_resultados[i] * lista_de_resultados[i - 1] <= 0:\n",
        "        fa, fb = lista_de_resultados[i - 1], lista_de_resultados[i]\n",
        "        a, b = (i - 1), i\n",
        "        # print(a, b)  # Debug\n",
        "        return [fa, fb], [a, b], True\n",
        "    i += 1\n",
        "    if i > limite_de_iteracao:\n",
        "      print('Impossível achar uma solução satisfatória')\n",
        "      print('Pois nunca alcançará o ponto estudado.')\n",
        "      fa = lista_de_resultados[int(limite_de_iteracao - 1)]\n",
        "      fb =lista_de_resultados[int(limite_de_iteracao)]\n",
        "      a, b = (limite_de_iteracao - 1), limite_de_iteracao\n",
        "      return [fa, fb], [a, b], False\n",
        "\n",
        "\n",
        "ponto_fa_fb, pontos_a_b, ha_raiz = intervalo_da_raiz(100, -9, 0)\n",
        "ponto_fa_fb, pontos_a_b, ha_raiz"
      ],
      "metadata": {
        "id": "9XckXWIjwo81",
        "colab": {
          "base_uri": "https://localhost:8080/"
        },
        "outputId": "2164f04f-ad11-472f-c857-bf3640e1f8fc"
      },
      "execution_count": null,
      "outputs": [
        {
          "output_type": "execute_result",
          "data": {
            "text/plain": [
              "([0.0, 41.0], [0, 1], True)"
            ]
          },
          "metadata": {},
          "execution_count": 5
        }
      ]
    },
    {
      "cell_type": "code",
      "source": [
        "def condicao_suficiente(pontos_a_b, aceleracao, velocidade, erro) -> bool:\n",
        "\n",
        "  partida = pontos_a_b[0]\n",
        "  fim = pontos_a_b[1]\n",
        "  while partida <= fim - erro:\n",
        "    vel_1: float = velocidade_momentanea(aceleracao, velocidade, partida)\n",
        "    vel_2: float = velocidade_momentanea(aceleracao, velocidade, partida + erro)\n",
        "    # print(vel_2)\n",
        "\n",
        "    if vel_2 == 0 and vel_1 * vel_2 < 0:\n",
        "      print('O método de Newton-Raphson não é suficiente.')\n",
        "      return False\n",
        "    partida += erro\n",
        "  # print()  # DEbug\n",
        "  return True\n",
        "\n",
        "\n",
        "condicao_suficiente([1.0, 2.0], -5, 2, 0.1)"
      ],
      "metadata": {
        "id": "ttAGB6n-CD6C",
        "colab": {
          "base_uri": "https://localhost:8080/"
        },
        "outputId": "d6c1e5cc-6bd1-4272-979d-abf1cc1f97a8"
      },
      "execution_count": null,
      "outputs": [
        {
          "output_type": "execute_result",
          "data": {
            "text/plain": [
              "True"
            ]
          },
          "metadata": {},
          "execution_count": 6
        }
      ]
    },
    {
      "cell_type": "code",
      "source": [
        "def extremo_escolhido(aceleracao, pontos_a_b, ponto_fa_fb) -> float:\n",
        "  if ponto_fa_fb[0] * aceleracao > 0:\n",
        "    return pontos_a_b[0]\n",
        "  else:\n",
        "    return pontos_a_b[1]\n",
        "\n",
        "extremo_escolhido(-5, [1.0, 2.0], [4.5, -1.0])"
      ],
      "metadata": {
        "id": "1fx-vPdkKINs",
        "colab": {
          "base_uri": "https://localhost:8080/"
        },
        "outputId": "c07d4a83-c501-4405-93df-7e041374cc9f"
      },
      "execution_count": null,
      "outputs": [
        {
          "output_type": "execute_result",
          "data": {
            "text/plain": [
              "2.0"
            ]
          },
          "metadata": {},
          "execution_count": 7
        }
      ]
    },
    {
      "cell_type": "code",
      "source": [
        "def newton_raphson(pontos_a_b, aceleracao, velocidade, inicio, erro) -> float:\n",
        "  # ponto_fa_fb, pontos_a_b = intervalo_da_raiz(aceleracao, velocidade, inicio)\n",
        "  if condicao_suficiente(pontos_a_b, aceleracao, velocidade, erro):\n",
        "    x0: float = extremo_escolhido(aceleracao, pontos_a_b, ponto_fa_fb)\n",
        "    # print(x0)  # Debug\n",
        "    fora_do_erro: bool = True\n",
        "\n",
        "    x_novo: float = x0 - (mruv(aceleracao, \n",
        "                        velocidade, \n",
        "                        inicio, \n",
        "                        x0) / velocidade_momentanea(aceleracao, \n",
        "                                                    velocidade, \n",
        "                                                    x0))\n",
        "    # print(x_novo)  # Debug\n",
        "    while fora_do_erro:\n",
        "      x_antes: float = x_novo\n",
        "      x_novo = x_novo - (mruv(aceleracao, \n",
        "                              velocidade, \n",
        "                              inicio, \n",
        "                              x_novo) / velocidade_momentanea(aceleracao, \n",
        "                                                              velocidade, \n",
        "                                                              x_novo))\n",
        "      # print(x_novo)  # Debug\n",
        "      if abs(x_antes - x_novo) < erro:\n",
        "        fora_do_erro = False\n",
        "        return x_novo\n",
        "\n",
        "newton_raphson([0, 1], 100, -9, 0 - 0, 0.01)"
      ],
      "metadata": {
        "id": "RYiuymCw2gp7",
        "colab": {
          "base_uri": "https://localhost:8080/"
        },
        "outputId": "59680ba3-c3a4-4c53-e5b2-c3def67c8f89"
      },
      "execution_count": null,
      "outputs": [
        {
          "output_type": "execute_result",
          "data": {
            "text/plain": [
              "0.18031482899325726"
            ]
          },
          "metadata": {},
          "execution_count": 8
        }
      ]
    },
    {
      "cell_type": "code",
      "source": [
        "print('Formato da MRUV:')\n",
        "print('0.5 * aceleracao * tempo ^ 2 + velocidade * tempo + inicio')\n",
        "\n",
        "aceleracao = float(input('Digite a aceleração do ponto em m/s²:').strip())\n",
        "velocidade = float(input('Digite a velocidade inicial do ponto em m/s:').strip())\n",
        "inicio = float(input('Digite a altura inicial do ponto em m:').strip())\n",
        "posicao = float(input('Digite a posição de chegada em m:').strip())\n",
        "erro = float(input('Digite o erro máximo: ').strip())\n",
        "if erro <= 0:\n",
        "  print('O erro não deve ser nulo e nem negativo.')\n",
        "\n",
        "ponto_fa_fb, pontos_a_b, ha_raiz = intervalo_da_raiz(aceleracao, \n",
        "                                                     velocidade, \n",
        "                                                     inicio - posicao)\n",
        "# print(ponto_fa_fb, pontos_a_b) # Debug\n",
        "limite_de_iteracao = limite_de_iteracoes(aceleracao, velocidade, inicio)\n",
        "# print(limite_de_iteracao)  # Debug\n",
        "\n",
        "if not ha_raiz:\n",
        "  resultado = limite_de_iteracao\n",
        "  print('A posição chegará a um tempo indeterminado.')\n",
        "  tempos = np.arange(0, limite_de_iteracao, erro)\n",
        "else: \n",
        "  resultado = newton_raphson(pontos_a_b, \n",
        "                             aceleracao, \n",
        "                             velocidade, \n",
        "                             inicio - posicao, \n",
        "                             erro)\n",
        "  tempos = np.arange(0, resultado + 10 * erro, erro)\n",
        "  print(\"A posição estará no tempo de\", resultado, \"s\")\n",
        "\n",
        "\n",
        "\n",
        "# start = float(input('Digite o valor inicial do tempo:'))\n",
        "# stop = float(input('Digite o valor final do tempo:'))\n",
        "# tempos = np.arange(start, stop, erro)\n",
        "\n",
        "\n",
        "# print(tempos)  # Debug\n",
        "\n",
        "plt.grid()\n",
        "plt.plot(tempos,velocidade_momentanea(aceleracao, velocidade, tempos))\n",
        "plt.axvline(0, color='k')\n",
        "plt.axhline(0, color='k')\n",
        "plt.title('Velocidade versus tempo')\n",
        "plt.xlabel('Tempo (s)', size= 8)\n",
        "plt.ylabel('Velocidade (m/s)', size= 8)\n",
        "plt.show()\n",
        "\n",
        "plt.grid()\n",
        "plt.plot(tempos, mruv(aceleracao, velocidade, inicio, tempos))\n",
        "plt.axhline(posicao, color='r')\n",
        "plt.axvline(0, color='k')\n",
        "plt.axhline(0, color='k')\n",
        "plt.title('Posição versus tempo')\n",
        "plt.xlabel('Tempo (s)', size= 8)\n",
        "plt.ylabel('Posição (m)', size= 8)\n",
        "if ha_raiz:\n",
        "  plt.plot(resultado, posicao, 'ro')\n",
        "plt.show()"
      ],
      "metadata": {
        "id": "AMJB7G2cGKsY",
        "colab": {
          "base_uri": "https://localhost:8080/"
        },
        "outputId": "72a3e196-f1af-4bc7-b562-a83c057feb5a"
      },
      "execution_count": null,
      "outputs": [
        {
          "output_type": "stream",
          "name": "stdout",
          "text": [
            "Formato da MRUV:\n",
            "0.5 * aceleracao * tempo ^ 2 + velocidade * tempo + inicio\n",
            "Digite a aceleração do ponto em m/s²:1\n",
            "Digite a velocidade inicial do ponto em m/s:1\n",
            "Digite a altura inicial do ponto em m:1\n",
            "Digite a posição de chegada em m:0\n",
            "Digite o erro máximo: 0.1\n",
            "Impossível achar uma solução satisfatória\n",
            "Pois nunca alcançará o ponto estudado.\n",
            "A posição chegará a um tempo indeterminado.\n"
          ]
        },
        {
          "output_type": "display_data",
          "data": {
            "text/plain": [
              "<Figure size 432x288 with 1 Axes>"
            ],
            "image/png": "[encoded data removed]"
          },
          "metadata": {
            "needs_background": "light"
          }
        },
        {
          "output_type": "display_data",
          "data": {
            "text/plain": [
              "<Figure size 432x288 with 1 Axes>"
            ],
            "image/png": "[encoded data removed]"
          },
          "metadata": {
            "needs_background": "light"
          }
        }
      ]
    }
  ],
  "metadata": {
    "colab": {
      "provenance": [],
      "include_colab_link": true
    },
    "kernelspec": {
      "display_name": "Python 3",
      "name": "python3"
    },
    "language_info": {
      "name": "python"
    }
  },
  "nbformat": 4,
  "nbformat_minor": 0
}