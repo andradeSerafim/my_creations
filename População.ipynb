{
  "cells": [
    {
      "cell_type": "markdown",
      "metadata": {
        "id": "view-in-github",
        "colab_type": "text"
      },
      "source": [
        "<a href=\"https://colab.research.google.com/github/andradeSerafim/my_creations/blob/main/Popula%C3%A7%C3%A3o.ipynb\" target=\"_parent\"><img src=\"https://colab.research.google.com/assets/colab-badge.svg\" alt=\"Open In Colab\"/></a>"
      ]
    },
    {
      "cell_type": "markdown",
      "metadata": {
        "id": "y4OnWIqwpk42"
      },
      "source": [
        "# Crescimento populacional"
      ]
    },
    {
      "cell_type": "code",
      "execution_count": null,
      "metadata": {
        "id": "SA9SwcwWOxJq",
        "colab": {
          "base_uri": "https://localhost:8080/"
        },
        "outputId": "099a8d50-51db-4155-bb3d-3d7449e28b19"
      },
      "outputs": [
        {
          "output_type": "execute_result",
          "data": {
            "text/plain": [
              "[[0, 0, 0, 0, 0],\n",
              " [0, 0, 0, 0, 0],\n",
              " [0, 0, 0, 0, 0],\n",
              " [0, 0, 0, 0, 0],\n",
              " [0, 0, 0, 0, 0]]"
            ]
          },
          "metadata": {},
          "execution_count": 1
        }
      ],
      "source": [
        "def fazendo_matriz(ano) -> list:\n",
        "  matriz = []\n",
        "  for i in range(len(ano)):\n",
        "    nova_linha = []\n",
        "    for j in range(len(ano)):\n",
        "      nova_linha.append(0)\n",
        "    matriz.append(nova_linha)\n",
        "  return matriz\n",
        "\n",
        "\n",
        "fazendo_matriz([0, 0.1, 0.2, 0.3, 0.4])"
      ]
    },
    {
      "cell_type": "code",
      "execution_count": null,
      "metadata": {
        "id": "WS_gSEhTd3wp",
        "colab": {
          "base_uri": "https://localhost:8080/"
        },
        "outputId": "ce1dfb08-6576-4563-d600-84ec1a7eccff"
      },
      "outputs": [
        {
          "output_type": "execute_result",
          "data": {
            "text/plain": [
              "[[6600, 0, 0], [7200, 600.0, 0], [8000, 800.0, 100.0]]"
            ]
          },
          "metadata": {},
          "execution_count": 2
        }
      ],
      "source": [
        "def diferenca_dividida(ano, populacao) -> list:\n",
        "  matriz = fazendo_matriz(ano)\n",
        "  # print('ano, populacao:', ano, populacao)  # Debug\n",
        "  for i in range(len(populacao)):\n",
        "    matriz[i][0] = populacao[i]\n",
        "    # print(matriz)\n",
        "    \n",
        "  for i in range(len(populacao))[1:]:\n",
        "    for j in range(len(ano))[1:]:\n",
        "      numerador = matriz[i][j - 1] -  matriz[i - 1][j - 1]\n",
        "      denominador = ano[i] - ano[i - j]\n",
        "      # matriz[i][j] = numerador / denominador\n",
        "      matriz[i][j] = round(numerador / denominador, 5)\n",
        "      if i < j:\n",
        "        matriz[i][j] = 0\n",
        "\n",
        "  '''print()\n",
        "  for i in range(len(populacao)):\n",
        "    for j in range(len(ano)):\n",
        "      print(matriz[i][j], end = '\\t')\n",
        "    print()\n",
        "  print()'''\n",
        "\n",
        "  return matriz\n",
        "\n",
        "# diferenca_dividida([1970, 1971, 1972, 1973, 1974],\n",
        "#                    [6000, 6200, 6600, 7200, 8000])\n",
        "# diferenca_dividida([1970, 1971, 1972], [200.0, 400.0])\n",
        "diferenca_dividida([1972, 1973, 1974], [6600, 7200, 8000])\n",
        "# diferenca_dividida([1970, 1971, 1972, 1973, 1974],\n",
        "#                    [6000, 6200, 6600, 7200, 8000])\n",
        "# diferenca_dividida([-1, 0, 2],\n",
        "#                    [4, 1,-1])\n",
        "# diferenca_dividida([0, 8, 20, 30, 45],\n",
        "#                    [0, 52.032, 160.45, 275.961, 370.276])\n",
        "# diferenca_dividida([2, 2.2, 2.4, 2.6, 2.8],\n",
        "#                    [0.5103757, 0.5207843, 0.5104147, 0.4813306, 0.435916])\n",
        "# diferenca_dividida([0, 0.1, 0.2, 0.3, 0.4],\n",
        "#                    [-0.3333, -0.292, -0.245, -0.1922, -0.1338])"
      ]
    },
    {
      "cell_type": "code",
      "execution_count": null,
      "metadata": {
        "id": "dhj14ykpSc1P",
        "colab": {
          "base_uri": "https://localhost:8080/"
        },
        "outputId": "3eea60aa-8e95-47a0-f6e0-ec75406f3f1e"
      },
      "outputs": [
        {
          "output_type": "execute_result",
          "data": {
            "text/plain": [
              "7575.0"
            ]
          },
          "metadata": {},
          "execution_count": 3
        }
      ],
      "source": [
        "def polinomio(valor, anos, tabela) -> float:\n",
        "  # print('tabela', tabela)  # Debug\n",
        "  resultado = 0\n",
        "  for i in range(len(tabela)+1):  # Linha da tabela\n",
        "    monomio = 0\n",
        "    for j in range(i+1):  # Coluna da tabela\n",
        "      # print('i -1, j:', i -1, j)  # Debug\n",
        "      if i -1 == j:\n",
        "        # print('i -1, j:', i -1, j)  # Debug\n",
        "        monomio += tabela[i-1][j]\n",
        "        # print(f'tabela[{i-1}][{j}]', tabela[i-1][j])  # Debug\n",
        "        for cada_ano in range(j):\n",
        "          # print('j', j)\n",
        "          # print(f'valor - anos[{cada_ano}]:', valor ,'-',anos[cada_ano])  # Debug\n",
        "          monomio *= (valor - anos[cada_ano])\n",
        "        # print()  # Debug\n",
        "    resultado += monomio\n",
        "  return resultado\n",
        "\n",
        "\n",
        "# polinomio(2.5, [2, 2.2, 2.4, 2.6, 2.8],\n",
        "#           diferenca_dividida([2, 2.2, 2.4, 2.6, 2.8],\n",
        "#                              [0.5103757, 0.5207843, 0.5104147, 0.4813306, 0.435916]))\n",
        "# polinomio(2.5, [2.2, 2.4, 2.6, 2.8],\n",
        "#           diferenca_dividida([2.2, 2.4, 2.6, 2.8],\n",
        "#                              [0.5207843, 0.5104147, 0.4813306, 0.435916]))\n",
        "# polinomio(2.5, [2.2, 2.4, 2.6],\n",
        "#           diferenca_dividida([2.2, 2.4, 2.6],\n",
        "#                              [0.5207843, 0.5104147, 0.4813306]))\n",
        "# polinomio(1, [0, 0.1, 0.2, 0.3, 0.4],\n",
        "#           diferenca_dividida([0, 0.1, 0.2, 0.3, 0.4],\n",
        "#                              [0.3333, -0.292, -0.245, -0.1922, -0.1338]))\n",
        "polinomio(1973.5, [1972, 1973, 1974],\n",
        "          diferenca_dividida([1972, 1973, 1974], [6600, 7200, 8000]))\n",
        "# polinomio(1, [1972, 1973, 1974],\n",
        "#           diferenca_dividida([1972, 1973, 1974],\n",
        "#                              [6600, 7200, 8000]))\n",
        "# polinomio(1, [1972, 1973],\n",
        "#           diferenca_dividida([1972, 1973],\n",
        "#                              [6600, 7200]))"
      ]
    },
    {
      "cell_type": "code",
      "execution_count": null,
      "metadata": {
        "id": "xs7i53WhEvfb",
        "colab": {
          "base_uri": "https://localhost:8080/"
        },
        "outputId": "06e99124-90bb-417f-d0a9-7745183bd6f0"
      },
      "outputs": [
        {
          "output_type": "execute_result",
          "data": {
            "text/plain": [
              "True"
            ]
          },
          "metadata": {},
          "execution_count": 4
        }
      ],
      "source": [
        "'45'.replace('.','').isdecimal()"
      ]
    },
    {
      "cell_type": "code",
      "execution_count": null,
      "metadata": {
        "colab": {
          "base_uri": "https://localhost:8080/"
        },
        "id": "SBOACzbKScvr",
        "outputId": "e772b92a-a7cc-4da6-c79d-cc7adab7b478"
      },
      "outputs": [
        {
          "name": "stdout",
          "output_type": "stream",
          "text": [
            "Digite valores de ano crescentes e de população separados por espaço: 1973 8000\n",
            "Digite valores de ano crescentes e de população separados por espaço: 8\n"
          ]
        },
        {
          "output_type": "execute_result",
          "data": {
            "text/plain": [
              "([1972, 1973.0], [6600, 8000.0])"
            ]
          },
          "metadata": {},
          "execution_count": 5
        }
      ],
      "source": [
        "from typing import Tuple\n",
        "\n",
        "Vector = Tuple[list]\n",
        "\n",
        "def entradas_de_valores(ano: list, populacao: list) -> Vector:\n",
        "  entrada: str = input('Digite valores de ano crescentes e de população ' \\\n",
        "                       'separados por espaço: ')\n",
        "  \n",
        "  if not ' ' in entrada:\n",
        "    return ano, populacao\n",
        "  \n",
        "  novo_ano, nova_populacao = entrada.split()\n",
        "  # print('novo_ano, nova_populacao', novo_ano, nova_populacao)  # Debug\n",
        "\n",
        "  if not (novo_ano.replace('.','').isdecimal() and\n",
        "      nova_populacao.replace('.','').isdecimal()):\n",
        "    return ano, populacao\n",
        "\n",
        "  ano.append(float(novo_ano))\n",
        "  populacao.append(float(nova_populacao))\n",
        "    \n",
        "  ano, populacao = entradas_de_valores(ano, populacao)\n",
        "  return ano, populacao\n",
        "\n",
        "\n",
        "# entradas_de_valores([2], [0.5103757])\n",
        "entradas_de_valores([1972], [6600])"
      ]
    },
    {
      "cell_type": "code",
      "execution_count": null,
      "metadata": {
        "id": "HivktuMpScxz",
        "outputId": "9fb4fcfc-9c62-4e80-de0c-dd44644a4179",
        "colab": {
          "base_uri": "https://localhost:8080/"
        }
      },
      "outputs": [
        {
          "output_type": "stream",
          "name": "stdout",
          "text": [
            "Interrompa a entrada de valores com uma entrada não-numérica ou somente um valor sem espaço.\n",
            "Digite valores de ano crescentes e de população separados por espaço: 1972 9000\n",
            "Digite valores de ano crescentes e de população separados por espaço: 2000 100000\n",
            "Digite valores de ano crescentes e de população separados por espaço: 5\n",
            "Qual é o ano que deseja prever a população? 1990\n",
            "A população prevista para o ano 1990.0 é 67500.0.\n"
          ]
        }
      ],
      "source": [
        "ano, populacao = [], []\n",
        "\n",
        "fim = 1\n",
        "print('Interrompa a entrada de valores com uma entrada não-numérica' \\\n",
        "      ' ou somente um valor sem espaço.')\n",
        "\n",
        "entrada = input('Digite valores de ano crescentes e de população ' \\\n",
        "                'separados por espaço: ')\n",
        "novo_ano, nova_populacao = entrada.split()\n",
        "# print(novo_ano, nova_populacao)  # Debug\n",
        "\n",
        "ano, populacao = entradas_de_valores([float(novo_ano)], \n",
        "                                     [float(nova_populacao)])\n",
        "# print(ano, populacao)  # Debug\n",
        "\n",
        "tabela = diferenca_dividida(ano, populacao)\n",
        "# print('tabela', tabela)\n",
        "\n",
        "valor = float(input('Qual é o ano que deseja prever a população? '))\n",
        "previsao = polinomio(valor, ano, tabela)\n",
        "\n",
        "print(f'A população prevista para o ano {valor} é {previsao}.')"
      ]
    }
  ],
  "metadata": {
    "colab": {
      "provenance": [],
      "include_colab_link": true
    },
    "kernelspec": {
      "display_name": "Python 3",
      "name": "python3"
    },
    "language_info": {
      "name": "python"
    }
  },
  "nbformat": 4,
  "nbformat_minor": 0
}